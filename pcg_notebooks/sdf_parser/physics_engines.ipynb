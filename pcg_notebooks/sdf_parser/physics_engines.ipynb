{
 "cells": [
  {
   "cell_type": "markdown",
   "metadata": {},
   "source": [
    "# Physics engines\n",
    "\n",
    "The description of the physics engine's parameters is one of the most import parts in the world description in Gazebo. A `<world>` can only have one physics element.\n",
    "\n",
    "It can use the following engines: \n",
    "\n",
    "* ODE (`ode`)\n",
    "* Bullet (`bullet`)\n",
    "* Simbody (`simbody`)\n",
    "* DART (`dart`) \n",
    "\n",
    "and a specific SDF block is available to describe each engine."
   ]
  },
  {
   "cell_type": "code",
   "execution_count": null,
   "metadata": {},
   "outputs": [],
   "source": [
    "# Import the element creator\n",
    "from pcg_gazebo.parsers.sdf import create_sdf_element"
   ]
  },
  {
   "cell_type": "code",
   "execution_count": null,
   "metadata": {},
   "outputs": [],
   "source": [
    "# Create first the global physics block\n",
    "physics = create_sdf_element('physics')\n",
    "print(physics)"
   ]
  },
  {
   "cell_type": "code",
   "execution_count": null,
   "metadata": {},
   "outputs": [],
   "source": [
    "# The physics engine's configuration modes are named after the \n",
    "# engine being used, the default being `ode`\n",
    "physics.reset(mode='ode', with_optional_elements=True)\n",
    "print(physics)"
   ]
  },
  {
   "cell_type": "code",
   "execution_count": null,
   "metadata": {},
   "outputs": [],
   "source": [
    "physics.reset(mode='bullet', with_optional_elements=True)\n",
    "print(physics)"
   ]
  },
  {
   "cell_type": "code",
   "execution_count": null,
   "metadata": {},
   "outputs": [],
   "source": [
    "physics.reset(mode='simbody', with_optional_elements=True)\n",
    "print(physics)"
   ]
  },
  {
   "cell_type": "code",
   "execution_count": null,
   "metadata": {},
   "outputs": [],
   "source": []
  }
 ],
 "metadata": {
  "kernelspec": {
   "display_name": "Python 3",
   "language": "python",
   "name": "python3"
  },
  "language_info": {
   "codemirror_mode": {
    "name": "ipython",
    "version": 3
   },
   "file_extension": ".py",
   "mimetype": "text/x-python",
   "name": "python",
   "nbconvert_exporter": "python",
   "pygments_lexer": "ipython3"
  }
 },
 "nbformat": 4,
 "nbformat_minor": 2
}
