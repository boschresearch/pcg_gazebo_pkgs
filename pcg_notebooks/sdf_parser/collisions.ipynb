{
 "cells": [
  {
   "cell_type": "markdown",
   "metadata": {},
   "source": [
    "# Collision\n",
    "\n",
    "The collision properties of a link. Note that this can be different from the visual properties of a link, for example, simpler collision models are often used to reduce computation time. This is a child element of `<link>` and a link can have multiple collisions.\n"
   ]
  },
  {
   "cell_type": "code",
   "execution_count": null,
   "metadata": {},
   "outputs": [],
   "source": [
    "# Import the element creator\n",
    "from pcg_gazebo.parsers.sdf import create_sdf_element"
   ]
  },
  {
   "cell_type": "code",
   "execution_count": null,
   "metadata": {},
   "outputs": [],
   "source": [
    "# The collision element is created with an empty geometry by default\n",
    "collision = create_sdf_element('collision')\n",
    "print(collision)"
   ]
  },
  {
   "cell_type": "code",
   "execution_count": null,
   "metadata": {},
   "outputs": [],
   "source": [
    "# To see the optional elements, use the method reset()\n",
    "collision.reset(with_optional_elements=True)\n",
    "print(collision)"
   ]
  },
  {
   "cell_type": "code",
   "execution_count": null,
   "metadata": {},
   "outputs": [],
   "source": [
    "# Setting the parameters of a collision element\n",
    "\n",
    "# Maximum number of contacts allowed between two entities, this value\n",
    "# will override the max_contacts element defined in physics\n",
    "collision.max_contacts = 30\n",
    "# Pose of the collision geometry with respect to a speficied frame\n",
    "collision.pose = [0, 0, 1, 0, 0, 0]\n",
    "collision.pose.frame = 'base_link'\n",
    "\n",
    "print(collision)"
   ]
  },
  {
   "cell_type": "code",
   "execution_count": null,
   "metadata": {},
   "outputs": [],
   "source": [
    "# Setting different geometries to the collision element\n",
    "collision.geometry.box = create_sdf_element('box')\n",
    "print(collision)\n",
    "collision.geometry.sphere = create_sdf_element('sphere')\n",
    "print(collision)\n",
    "collision.geometry.cylinder = create_sdf_element('cylinder')\n",
    "print(collision)\n",
    "collision.geometry.plane = create_sdf_element('plane')\n",
    "print(collision)\n",
    "collision.geometry.mesh = create_sdf_element('mesh')\n",
    "collision.geometry.mesh.reset(with_optional_elements=True)\n",
    "print(collision)\n",
    "collision.geometry.image = create_sdf_element('image')\n",
    "print(collision)\n",
    "collision.geometry.polyline = create_sdf_element('polyline')\n",
    "print(collision)"
   ]
  },
  {
   "cell_type": "code",
   "execution_count": null,
   "metadata": {},
   "outputs": [],
   "source": [
    "# Optional elements can also be created dynamically\n",
    "collision = create_sdf_element('collision')\n",
    "print(collision)"
   ]
  },
  {
   "cell_type": "code",
   "execution_count": null,
   "metadata": {},
   "outputs": [],
   "source": [
    "collision.max_contacts = 40\n",
    "print(collision)"
   ]
  },
  {
   "cell_type": "code",
   "execution_count": null,
   "metadata": {},
   "outputs": [],
   "source": [
    "collision.pose = [0, 0.2, 0, 0, 0, 0]\n",
    "collision.pose.frame = 'new_frame'\n",
    "print(collision)"
   ]
  },
  {
   "cell_type": "code",
   "execution_count": null,
   "metadata": {},
   "outputs": [],
   "source": [
    "# The geometry entity can be set with a dictionary with all the child parameters\n",
    "collision.geometry.box = dict(size=[2, 3, 4])\n",
    "print(collision)"
   ]
  },
  {
   "cell_type": "code",
   "execution_count": null,
   "metadata": {},
   "outputs": [],
   "source": [
    "# The pose, as other variables, can be set using a dictionary\n",
    "# For SDF elements with no child elements, only values, the dictionary must always have a key 'value'\n",
    "#      d = {value=[0, 0, 0, 0, 0, 0]}\n",
    "# If the element contains attributes, as the attribute 'frame' in the element 'pose', there should be a key\n",
    "# 'attributes' with a dictionary containing all the attributes\n",
    "#      d = {value=[0, 0, 0, 0, 0, 0], attributes=dict(frame='new_frame')}\n",
    "collision.pose = {'value': [0, 0.2, 0, 0, 0, 0], 'attributes': {'frame': 'new_frame'}}\n",
    "print(collision)"
   ]
  },
  {
   "cell_type": "code",
   "execution_count": null,
   "metadata": {},
   "outputs": [],
   "source": []
  }
 ],
 "metadata": {
  "kernelspec": {
   "display_name": "Python 3",
   "language": "python",
   "name": "python3"
  },
  "language_info": {
   "codemirror_mode": {
    "name": "ipython",
    "version": 3
   },
   "file_extension": ".py",
   "mimetype": "text/x-python",
   "name": "python",
   "nbconvert_exporter": "python",
   "pygments_lexer": "ipython3"
  }
 },
 "nbformat": 4,
 "nbformat_minor": 2
}
