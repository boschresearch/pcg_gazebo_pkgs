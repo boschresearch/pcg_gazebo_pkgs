{
 "cells": [
  {
   "cell_type": "markdown",
   "metadata": {},
   "source": [
    "# Links, joints and sensors\n",
    "\n",
    "## Links\n",
    "\n",
    "A physical link in the simulation contains inertia, collision and visual properties. A link must be a child of a model and a model can have multiple links."
   ]
  },
  {
   "cell_type": "code",
   "execution_count": null,
   "metadata": {},
   "outputs": [],
   "source": [
    "# Import the element creator\n",
    "from pcg_gazebo.parsers.sdf import create_sdf_element"
   ]
  },
  {
   "cell_type": "code",
   "execution_count": null,
   "metadata": {},
   "outputs": [],
   "source": [
    "# The link is empty by default\n",
    "link = create_sdf_element('link')\n",
    "print(link)"
   ]
  },
  {
   "cell_type": "code",
   "execution_count": null,
   "metadata": {},
   "outputs": [],
   "source": [
    "# Let's create the elements dynamically at first\n",
    "link = create_sdf_element('link')\n",
    "\n",
    "# The link's name must be unique in a model\n",
    "link.name = 'base_link'\n",
    "print(link)"
   ]
  },
  {
   "cell_type": "code",
   "execution_count": null,
   "metadata": {},
   "outputs": [],
   "source": [
    "# Mass of the link in kg\n",
    "link.mass = 30\n",
    "# The center of mass are the cartesian coordinates in link.inertial.pose\n",
    "link.center_of_mass = [0, 10, 0]\n",
    "# The moments of inertia describe the elements of the 3x3 rotational inertial matrix\n",
    "link.inertia.ixx = 0.5\n",
    "link.inertia.iyy = 0.5\n",
    "link.inertia.izz = 0.5\n",
    "print(link)"
   ]
  },
  {
   "cell_type": "code",
   "execution_count": null,
   "metadata": {},
   "outputs": [],
   "source": [
    "# If gravity is set as true, the link will be affected by gravity\n",
    "link.gravity = True\n",
    "print(link)"
   ]
  },
  {
   "cell_type": "code",
   "execution_count": null,
   "metadata": {},
   "outputs": [],
   "source": [
    "# If kinematic is set to true, the link is kinematic only\n",
    "link.kinematic = False\n",
    "print(link)"
   ]
  },
  {
   "cell_type": "code",
   "execution_count": null,
   "metadata": {},
   "outputs": [],
   "source": [
    "# The pose of the link with respect to a frame\n",
    "link.pose = [0, 0, 1, 0, 0, 0]\n",
    "print(link)"
   ]
  },
  {
   "cell_type": "code",
   "execution_count": null,
   "metadata": {},
   "outputs": [],
   "source": [
    "# As mentioned in previous notebooks, a link can have multiple visual and collision elements\n",
    "# To create an empty collision geometry, use the function add_collision as follows\n",
    "link.add_collision(name='collision_1')\n",
    "print(link.collisions[0])"
   ]
  },
  {
   "cell_type": "code",
   "execution_count": null,
   "metadata": {},
   "outputs": [],
   "source": [
    "# Set the geometry of the collision\n",
    "link.collisions[0].box = create_sdf_element('box')\n",
    "print(link)"
   ]
  },
  {
   "cell_type": "code",
   "execution_count": null,
   "metadata": {},
   "outputs": [],
   "source": [
    "# You can also add a collision geometry by creating a collision entity and \n",
    "# adding it to the link as follows\n",
    "collision = create_sdf_element('collision')\n",
    "collision.reset(with_optional_elements=True)\n",
    "collision.geometry.cylinder = create_sdf_element('cylinder')\n",
    "\n",
    "link.add_collision('collision_2', collision)\n",
    "print(link)"
   ]
  },
  {
   "cell_type": "code",
   "execution_count": null,
   "metadata": {},
   "outputs": [],
   "source": [
    "# You can't add collision or visual elements with duplicated names\n",
    "# You can also add a collision geometry by creating a collision entity and \n",
    "# adding it to the link as follows\n",
    "collision = create_sdf_element('collision')\n",
    "collision.reset(with_optional_elements=True)\n",
    "collision.geometry.box = create_sdf_element('box')\n",
    "\n",
    "link.add_collision('collision_2', collision)\n",
    "print(link)"
   ]
  },
  {
   "cell_type": "code",
   "execution_count": null,
   "metadata": {},
   "outputs": [],
   "source": [
    "link.add_collision('collision_3', collision)\n",
    "print(link)"
   ]
  },
  {
   "cell_type": "code",
   "execution_count": null,
   "metadata": {},
   "outputs": [],
   "source": [
    "# You can retrieve the collision geometry by its name\n",
    "# If the name given is not found, the function will return None\n",
    "print(link.get_collision_by_name('collision_1'))\n",
    "print(link.get_collision_by_name('collision_10'))\n",
    "# Or iterate in the collisions list\n",
    "for elem in link.collisions:\n",
    "    print(elem)"
   ]
  },
  {
   "cell_type": "code",
   "execution_count": null,
   "metadata": {},
   "outputs": [],
   "source": [
    "# The same is true for visual elements, create an empty visual element by using add_visual\n",
    "link.add_visual('visual_1')\n",
    "print(link)"
   ]
  },
  {
   "cell_type": "code",
   "execution_count": null,
   "metadata": {},
   "outputs": [],
   "source": [
    "# Set the geometry of the visual element\n",
    "link.visuals[0].geometry.plane = create_sdf_element('plane')\n",
    "print(link)"
   ]
  },
  {
   "cell_type": "code",
   "execution_count": null,
   "metadata": {},
   "outputs": [],
   "source": [
    "# You can also add a collision geometry by creating a collision entity and \n",
    "# adding it to the link as follows\n",
    "visual = create_sdf_element('visual')\n",
    "visual.reset(with_optional_elements=True)\n",
    "visual.geometry.cylinder = create_sdf_element('cylinder')\n",
    "\n",
    "link.add_visual('visual_2', visual)\n",
    "print(link)"
   ]
  },
  {
   "cell_type": "code",
   "execution_count": null,
   "metadata": {},
   "outputs": [],
   "source": [
    "# You can retrieve the visual geometry by its name\n",
    "# If the name given is not found, the function will return None\n",
    "print(link.get_visual_by_name('visual_1'))\n",
    "print(link.get_visual_by_name('visual_10'))\n",
    "# Or iterate in the visuals list\n",
    "for elem in link.visuals:\n",
    "    print(elem)"
   ]
  },
  {
   "cell_type": "markdown",
   "metadata": {},
   "source": [
    "## Joints\n"
   ]
  },
  {
   "cell_type": "code",
   "execution_count": null,
   "metadata": {},
   "outputs": [],
   "source": [
    "# The joint is empty by default\n",
    "joint = create_sdf_element('joint')\n",
    "print(joint)"
   ]
  },
  {
   "cell_type": "markdown",
   "metadata": {},
   "source": [
    "## Sensors\n"
   ]
  },
  {
   "cell_type": "code",
   "execution_count": null,
   "metadata": {},
   "outputs": [],
   "source": [
    "sensor = create_sdf_element('sensor')\n",
    "print(sensor)"
   ]
  },
  {
   "cell_type": "code",
   "execution_count": null,
   "metadata": {},
   "outputs": [],
   "source": [
    "print(sensor.get_modes())"
   ]
  },
  {
   "cell_type": "code",
   "execution_count": null,
   "metadata": {},
   "outputs": [],
   "source": [
    "sensor.reset(mode='altimeter', with_optional_elements=True)\n",
    "print(sensor)"
   ]
  },
  {
   "cell_type": "code",
   "execution_count": null,
   "metadata": {},
   "outputs": [],
   "source": [
    "sensor.reset(mode='camera', with_optional_elements=True)\n",
    "print(sensor)"
   ]
  },
  {
   "cell_type": "code",
   "execution_count": null,
   "metadata": {},
   "outputs": [],
   "source": [
    "sensor.reset(mode='force_torque', with_optional_elements=True)\n",
    "print(sensor)"
   ]
  },
  {
   "cell_type": "code",
   "execution_count": null,
   "metadata": {},
   "outputs": [],
   "source": []
  }
 ],
 "metadata": {
  "kernelspec": {
   "display_name": "Python 3",
   "language": "python",
   "name": "python3"
  },
  "language_info": {
   "codemirror_mode": {
    "name": "ipython",
    "version": 3
   },
   "file_extension": ".py",
   "mimetype": "text/x-python",
   "name": "python",
   "nbconvert_exporter": "python",
   "pygments_lexer": "ipython3"
  }
 },
 "nbformat": 4,
 "nbformat_minor": 2
}
