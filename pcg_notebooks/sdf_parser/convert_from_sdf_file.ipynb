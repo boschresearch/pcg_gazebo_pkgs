{
 "cells": [
  {
   "cell_type": "markdown",
   "metadata": {},
   "source": [
    "# Converting from SDF file"
   ]
  },
  {
   "cell_type": "code",
   "execution_count": null,
   "metadata": {},
   "outputs": [],
   "source": [
    "import os\n",
    "from pcg_gazebo.parsers import parse_xml"
   ]
  },
  {
   "cell_type": "code",
   "execution_count": null,
   "metadata": {},
   "outputs": [],
   "source": [
    "def download_sdf(url, model_name):\n",
    "    output_sdf = '/tmp/{}.sdf'.format(model_name)\n",
    "    os.system('wget {} -O {}'.format(url, output_sdf))\n",
    "    \n",
    "    with open(output_sdf, 'r') as f:\n",
    "        for line in f:\n",
    "            print(line.replace('\\n', ''))\n",
    "        \n",
    "    return output_sdf    "
   ]
  },
  {
   "cell_type": "markdown",
   "metadata": {},
   "source": [
    "# Bookshelf"
   ]
  },
  {
   "cell_type": "code",
   "execution_count": null,
   "metadata": {},
   "outputs": [],
   "source": [
    "url = 'https://bitbucket.org/osrf/gazebo_models/raw/9533d55593096e7ebdfb539e99d2bf9cb1bff347/bookshelf/model.sdf'\n",
    "obj = parse_xml(download_sdf(url, 'bookshelf'), type='sdf')\n",
    "\n"
   ]
  },
  {
   "cell_type": "code",
   "execution_count": null,
   "metadata": {},
   "outputs": [],
   "source": [
    "print(obj)"
   ]
  },
  {
   "cell_type": "markdown",
   "metadata": {},
   "source": [
    "# Beer can"
   ]
  },
  {
   "cell_type": "code",
   "execution_count": null,
   "metadata": {},
   "outputs": [],
   "source": [
    "url = 'https://bitbucket.org/osrf/gazebo_models/raw/9533d55593096e7ebdfb539e99d2bf9cb1bff347/beer/model.sdf'\n",
    "obj = parse_xml(download_sdf(url, 'beer'), type='sdf')"
   ]
  },
  {
   "cell_type": "code",
   "execution_count": null,
   "metadata": {},
   "outputs": [],
   "source": [
    "print(obj)"
   ]
  }
 ],
 "metadata": {
  "kernelspec": {
   "display_name": "Python 3",
   "language": "python",
   "name": "python3"
  },
  "language_info": {
   "codemirror_mode": {
    "name": "ipython",
    "version": 3
   },
   "file_extension": ".py",
   "mimetype": "text/x-python",
   "name": "python",
   "nbconvert_exporter": "python",
   "pygments_lexer": "ipython3"
  }
 },
 "nbformat": 4,
 "nbformat_minor": 2
}
