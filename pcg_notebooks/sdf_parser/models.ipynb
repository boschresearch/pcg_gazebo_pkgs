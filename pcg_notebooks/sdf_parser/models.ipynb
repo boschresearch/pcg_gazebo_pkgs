{
 "cells": [
  {
   "cell_type": "markdown",
   "metadata": {},
   "source": [
    "# Models\n",
    "\n",
    "A model element defines a complete robot or any other kind of physical object."
   ]
  },
  {
   "cell_type": "code",
   "execution_count": null,
   "metadata": {},
   "outputs": [],
   "source": [
    "# Import the element creator\n",
    "from pcg_gazebo.parsers.sdf import create_sdf_element"
   ]
  },
  {
   "cell_type": "code",
   "execution_count": null,
   "metadata": {},
   "outputs": [],
   "source": [
    "# The model is empty by default\n",
    "model = create_sdf_element('model')\n",
    "print(model)"
   ]
  },
  {
   "cell_type": "code",
   "execution_count": null,
   "metadata": {},
   "outputs": [],
   "source": [
    "# Let's create the elements dynamically at first\n",
    "model = create_sdf_element('model')\n",
    "\n",
    "# The model's name must be unique in a model\n",
    "model.name = 'my_robot'\n",
    "print(model)"
   ]
  },
  {
   "cell_type": "code",
   "execution_count": null,
   "metadata": {},
   "outputs": [],
   "source": [
    "# If static is set to true, the model is immovable\n",
    "model.static = True\n",
    "print(model)"
   ]
  },
  {
   "cell_type": "code",
   "execution_count": null,
   "metadata": {},
   "outputs": [],
   "source": [
    "# With the allow_auto_disable flag on, the physics engine can skip\n",
    "# updating the model when the model is at rest\n",
    "# This is only used for models with no joints\n",
    "model.allow_auto_disable = True\n",
    "print(model)"
   ]
  },
  {
   "cell_type": "code",
   "execution_count": null,
   "metadata": {},
   "outputs": [],
   "source": [
    "# If self_collide is set to true, the model will collide with\n",
    "# others expect with those connected by a joint\n",
    "model.self_collide = True\n",
    "print(model)"
   ]
  },
  {
   "cell_type": "code",
   "execution_count": null,
   "metadata": {},
   "outputs": [],
   "source": [
    "# Pose of model with respect to the world frame\n",
    "model.pose = [0, 1, 1, 0, 0, 0]\n",
    "print(model)"
   ]
  },
  {
   "cell_type": "code",
   "execution_count": null,
   "metadata": {},
   "outputs": [],
   "source": [
    "# An empty link can be added by using the add_link() method as follows\n",
    "model.add_link(name='link_1')\n",
    "print(model.links[0])"
   ]
  },
  {
   "cell_type": "code",
   "execution_count": null,
   "metadata": {},
   "outputs": [],
   "source": [
    "# The link can be edited as well\n",
    "model.links[0].gravity = True\n",
    "print(model)"
   ]
  },
  {
   "cell_type": "code",
   "execution_count": null,
   "metadata": {},
   "outputs": [],
   "source": [
    "# Another link with the same name cannot be added\n",
    "model.add_link('link_1')\n"
   ]
  },
  {
   "cell_type": "code",
   "execution_count": null,
   "metadata": {},
   "outputs": [],
   "source": [
    "# A model from another file can be included using the add_include()\n",
    "# method\n",
    "model.add_include('include_1')\n",
    "model.includes[0].uri = 'file://some_file'\n",
    "model.includes[0].name = 'some_model'\n",
    "print(model)"
   ]
  },
  {
   "cell_type": "code",
   "execution_count": null,
   "metadata": {},
   "outputs": [],
   "source": [
    "# An empty link can be added by using the add_link() method as follows\n",
    "model.add_joint(name='joint_1')\n",
    "print(model.joints[0])"
   ]
  }
 ],
 "metadata": {
  "kernelspec": {
   "display_name": "Python 3",
   "language": "python",
   "name": "python3"
  },
  "language_info": {
   "codemirror_mode": {
    "name": "ipython",
    "version": 3
   },
   "file_extension": ".py",
   "mimetype": "text/x-python",
   "name": "python",
   "nbconvert_exporter": "python",
   "pygments_lexer": "ipython3"
  }
 },
 "nbformat": 4,
 "nbformat_minor": 2
}
