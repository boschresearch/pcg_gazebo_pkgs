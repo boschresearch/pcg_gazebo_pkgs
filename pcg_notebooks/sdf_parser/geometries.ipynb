{
 "cells": [
  {
   "cell_type": "markdown",
   "metadata": {},
   "source": [
    "# Geometries\n",
    "\n",
    "Geometry entities are child elements of `<visual>` or `<collision>` elements."
   ]
  },
  {
   "cell_type": "code",
   "execution_count": null,
   "metadata": {},
   "outputs": [],
   "source": [
    "# Import the element creator\n",
    "from pcg_gazebo.parsers.sdf import create_sdf_element\n"
   ]
  },
  {
   "cell_type": "markdown",
   "metadata": {},
   "source": [
    "## Basic entities\n",
    "Demonstration of the basic SDF elements that can be generated with and without the optional parameters.\n",
    "\n",
    "### Geometries\n",
    "\n",
    "#### Box"
   ]
  },
  {
   "cell_type": "code",
   "execution_count": null,
   "metadata": {},
   "outputs": [],
   "source": [
    "# Default box\n",
    "box = create_sdf_element('box')\n",
    "print('Default box')\n",
    "print(box)\n",
    "\n",
    "print('Default box - as dict')\n",
    "print(box.to_dict())\n",
    "\n",
    "print('Default box - as SDF')\n",
    "print(box.to_xml_as_str())\n",
    "\n",
    "# Changing the size\n",
    "box.size = [2, 3, 4]\n",
    "print('Custom box')\n",
    "print(box)\n",
    "\n",
    "# Exporting \n",
    "# box.export_xml('/tmp/box.sdf')"
   ]
  },
  {
   "cell_type": "markdown",
   "metadata": {},
   "source": [
    "#### Cylinder"
   ]
  },
  {
   "cell_type": "code",
   "execution_count": null,
   "metadata": {},
   "outputs": [],
   "source": [
    "# Default cylinder\n",
    "cylinder = create_sdf_element('cylinder')\n",
    "print('Default cylinder')\n",
    "print(cylinder)\n",
    "\n",
    "print('Default cylinder - as dict')\n",
    "print(cylinder.to_dict())\n",
    "\n",
    "print('Default cylinder - as SDF')\n",
    "print(cylinder.to_xml_as_str())\n",
    "\n",
    "# Changing the parameters\n",
    "cylinder.radius = 2\n",
    "cylinder.length = 3\n",
    "print('Custom cylinder')\n",
    "print(cylinder)\n",
    "\n",
    "# Exporting \n",
    "# cylinder.export_xml('/tmp/cylinder.sdf')"
   ]
  },
  {
   "cell_type": "markdown",
   "metadata": {},
   "source": [
    "#### Sphere"
   ]
  },
  {
   "cell_type": "code",
   "execution_count": null,
   "metadata": {},
   "outputs": [],
   "source": [
    "# Default sphere\n",
    "sphere = create_sdf_element('sphere')\n",
    "print('Default sphere')\n",
    "print(sphere)\n",
    "\n",
    "print('Default sphere - as dict')\n",
    "print(sphere.to_dict())\n",
    "\n",
    "print('Default sphere - as SDF')\n",
    "print(sphere.to_xml_as_str())\n",
    "\n",
    "# Changing the parameters\n",
    "sphere.radius = 2\n",
    "print('Custom sphere')\n",
    "print(sphere)\n",
    "\n",
    "# Exporting \n",
    "# sphere.export_xml('/tmp/sphere.sdf')"
   ]
  },
  {
   "cell_type": "markdown",
   "metadata": {},
   "source": [
    "#### Plane"
   ]
  },
  {
   "cell_type": "code",
   "execution_count": null,
   "metadata": {},
   "outputs": [],
   "source": [
    "# Default plane\n",
    "plane = create_sdf_element('plane')\n",
    "print('Default plane')\n",
    "print(plane)\n",
    "\n",
    "print('Default plane - as dict')\n",
    "print(plane.to_dict())\n",
    "\n",
    "print('Default plane - as SDF')\n",
    "print(plane.to_xml_as_str())\n",
    "\n",
    "# Changing the parameters\n",
    "# Length of each side of the plane\n",
    "plane.size = [10, 10]\n",
    "# Normal direction of the plane\n",
    "plane.normal = [1, 0, 0]\n",
    "print('Custom plane')\n",
    "print(plane)\n",
    "\n",
    "# Exporting \n",
    "# plane.export_xml('/tmp/plane.sdf')"
   ]
  },
  {
   "cell_type": "markdown",
   "metadata": {},
   "source": [
    "#### Image\n",
    "\n",
    "A grayscale image can be used to extrude a set of boxes"
   ]
  },
  {
   "cell_type": "code",
   "execution_count": null,
   "metadata": {},
   "outputs": [],
   "source": [
    "# Default image\n",
    "image = create_sdf_element('image')\n",
    "print('Default image')\n",
    "print(image)\n",
    "\n",
    "print('Default image - as dict')\n",
    "print(image.to_dict())\n",
    "\n",
    "print('Default image - as SDF')\n",
    "print(image.to_xml_as_str())\n",
    "\n",
    "# Height of the extruded boxes\n",
    "image.height = 10\n",
    "# The amount of error in the model\n",
    "image.granularity = 1\n",
    "# Grayscale threshold\n",
    "image.threshold = 100\n",
    "# Scaling factor applied to the image\n",
    "image.scale = [2]\n",
    "# URI of the grayscale image\n",
    "image.uri = 'filename'\n",
    "\n",
    "print('Custom image')\n",
    "print(image)\n",
    "\n",
    "# Exporting \n",
    "# image.export_xml('/tmp/image.sdf')"
   ]
  },
  {
   "cell_type": "markdown",
   "metadata": {},
   "source": [
    "#### Mesh"
   ]
  },
  {
   "cell_type": "code",
   "execution_count": null,
   "metadata": {},
   "outputs": [],
   "source": [
    "mesh = create_sdf_element('mesh')\n",
    "print('Default mesh - with default parameters')\n",
    "print(mesh)\n",
    "\n",
    "print('Default mesh - as dict')\n",
    "print(mesh.to_dict())\n",
    "\n",
    "print('Default mesh - as SDF')\n",
    "print(mesh.to_xml_as_str())"
   ]
  },
  {
   "cell_type": "code",
   "execution_count": null,
   "metadata": {},
   "outputs": [],
   "source": [
    "print('Mesh with optional parameters')\n",
    "mesh.reset(with_optional_elements=True)\n",
    "print(mesh)\n",
    "\n",
    "# Name of the submesh under the parent mesh\n",
    "mesh.submesh.name = 'submesh.stl'\n",
    "# Set to true to center the vertices of the submesh at (0, 0, 0)\n",
    "mesh.submesh.center = True\n",
    "# Scaling factor of the mesh\n",
    "mesh.scale = [2, 1, 1]\n",
    "# URI of the mesh\n",
    "mesh.uri = 'file://mesh.stl'\n",
    "\n",
    "print('Custom mesh')\n",
    "print(mesh)"
   ]
  },
  {
   "cell_type": "markdown",
   "metadata": {},
   "source": [
    "#### Polyline"
   ]
  },
  {
   "cell_type": "code",
   "execution_count": null,
   "metadata": {},
   "outputs": [],
   "source": [
    "polyline = create_sdf_element('polyline')\n",
    "print('Default polyline - with default parameters')\n",
    "print(polyline)\n",
    "\n",
    "print('Default polyline - as dict')\n",
    "print(polyline.to_dict())\n",
    "\n",
    "print('Default polyline - as SDF')\n",
    "print(polyline.to_xml_as_str())"
   ]
  },
  {
   "cell_type": "code",
   "execution_count": null,
   "metadata": {},
   "outputs": [],
   "source": [
    "print('Polyline with optional parameters')\n",
    "polyline.reset(with_optional_elements=True)\n",
    "print(polyline)\n",
    "\n",
    "# Set new height\n",
    "polyline.height = 2.3\n",
    "# Customize point\n",
    "polyline.points[0].value = [2.3, 4.5]\n",
    "# Add new point\n",
    "polyline.add_point()\n",
    "# Set the coordinates of new point\n",
    "polyline.points[1].value = [3.7, 10.1]\n",
    "\n",
    "print('Custom polyline')\n",
    "print(polyline)"
   ]
  },
  {
   "cell_type": "markdown",
   "metadata": {},
   "source": [
    "### Creating a geometry entity\n"
   ]
  },
  {
   "cell_type": "code",
   "execution_count": null,
   "metadata": {},
   "outputs": [],
   "source": [
    "# Initially, the geometry is created with a <empty/> element\n",
    "geometry = create_sdf_element('geometry')\n",
    "print(geometry)"
   ]
  },
  {
   "cell_type": "code",
   "execution_count": null,
   "metadata": {},
   "outputs": [],
   "source": [
    "# Creating a geometry for each of the basic forms\n",
    "# The geometry entity has a separate mode for each possible geometry forms, since it cannot hold\n",
    "# multiple geometries\n",
    "# When a new geometry is set, the former one is deleted\n",
    "print('All the geometry entity modes:')\n",
    "print(geometry.get_modes())\n",
    "\n",
    "geometry.box = box\n",
    "print(geometry)\n",
    "\n",
    "geometry.cylinder = cylinder\n",
    "print(geometry)\n",
    "\n",
    "geometry.sphere = sphere\n",
    "print(geometry)\n",
    "\n",
    "geometry.plane = plane\n",
    "print(geometry)\n",
    "\n",
    "geometry.image = image\n",
    "print(geometry)\n",
    "\n",
    "geometry.mesh = mesh\n",
    "print(geometry)\n",
    "\n",
    "geometry.polyline = polyline\n",
    "print(geometry)"
   ]
  }
 ],
 "metadata": {
  "kernelspec": {
   "display_name": "Python 3",
   "language": "python",
   "name": "python3"
  },
  "language_info": {
   "codemirror_mode": {
    "name": "ipython",
    "version": 3
   },
   "file_extension": ".py",
   "mimetype": "text/x-python",
   "name": "python",
   "nbconvert_exporter": "python",
   "pygments_lexer": "ipython3"
  }
 },
 "nbformat": 4,
 "nbformat_minor": 2
}
