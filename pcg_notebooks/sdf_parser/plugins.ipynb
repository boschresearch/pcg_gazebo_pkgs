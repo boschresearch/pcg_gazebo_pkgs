{
 "cells": [
  {
   "cell_type": "markdown",
   "metadata": {},
   "source": [
    "# Plugins"
   ]
  },
  {
   "cell_type": "code",
   "execution_count": null,
   "metadata": {},
   "outputs": [],
   "source": [
    "# Import the element creator\n",
    "from pcg_gazebo.parsers.sdf import create_sdf_element"
   ]
  },
  {
   "cell_type": "code",
   "execution_count": null,
   "metadata": {},
   "outputs": [],
   "source": [
    "plugin_args = dict(\n",
    "    robotNamespace='robot',\n",
    "    topic='/topic',\n",
    "    args=dict(\n",
    "        param1=1,\n",
    "        param2=True,\n",
    "        param3=dict(\n",
    "            param31='option',\n",
    "            param32=3.434534\n",
    "        ),\n",
    "        param4=[3.1, 4.5, 8.5]\n",
    "    )\n",
    ")\n",
    "plugin = create_sdf_element('plugin', plugin_args)\n",
    "plugin.name = 'some_plugin'\n",
    "plugin.filename = 'libplugin.so'\n",
    "print(plugin)"
   ]
  },
  {
   "cell_type": "code",
   "execution_count": null,
   "metadata": {},
   "outputs": [],
   "source": [
    "plugin = create_sdf_element('plugin', plugin_args)\n",
    "plugin.value = plugin_args\n",
    "plugin.name = 'another_plugin'\n",
    "plugin.filename = 'libanother_plugin.so'\n",
    "print(plugin)"
   ]
  },
  {
   "cell_type": "markdown",
   "metadata": {},
   "source": [
    "# Some plugin default constructors"
   ]
  },
  {
   "cell_type": "code",
   "execution_count": null,
   "metadata": {},
   "outputs": [],
   "source": [
    "from pcg_gazebo.parsers.sdf import Plugin"
   ]
  },
  {
   "cell_type": "markdown",
   "metadata": {},
   "source": [
    "## `gazebo_ros_control`"
   ]
  },
  {
   "cell_type": "code",
   "execution_count": null,
   "metadata": {},
   "outputs": [],
   "source": [
    "print(Plugin.gazebo_ros_control(\n",
    "    name='gazebo_ros_control', \n",
    "    robot_namespace='/my_robot',\n",
    "    control_period=10,\n",
    "    robot_param='/robot_description',\n",
    "    robot_sim_type=None))"
   ]
  },
  {
   "cell_type": "markdown",
   "metadata": {},
   "source": [
    "## `gazebo_ros_bumper`"
   ]
  },
  {
   "cell_type": "code",
   "execution_count": null,
   "metadata": {},
   "outputs": [],
   "source": [
    "print(Plugin.gazebo_ros_bumper(\n",
    "    name='gazebo_ros_bumper', \n",
    "    robot_namespace='/my_robot',\n",
    "    bumper_topic_name='bumper_states',\n",
    "    frame_name='world'))"
   ]
  },
  {
   "cell_type": "markdown",
   "metadata": {},
   "source": [
    "## `gazebo_ros_ft_sensor`"
   ]
  },
  {
   "cell_type": "code",
   "execution_count": null,
   "metadata": {},
   "outputs": [],
   "source": [
    "print(Plugin.gazebo_ros_ft_sensor(\n",
    "    name='gazebo_ros_ft_sensor', \n",
    "    robot_namespace='my_robot',\n",
    "    joint_name='some_joint', \n",
    "    topic_name='force_torque_sensor_output',\n",
    "    gaussian_noise=0.05, \n",
    "    update_rate=0))"
   ]
  }
 ],
 "metadata": {
  "kernelspec": {
   "display_name": "Python 3",
   "language": "python",
   "name": "python3"
  },
  "language_info": {
   "codemirror_mode": {
    "name": "ipython",
    "version": 3
   },
   "file_extension": ".py",
   "mimetype": "text/x-python",
   "name": "python",
   "nbconvert_exporter": "python",
   "pygments_lexer": "ipython3"
  }
 },
 "nbformat": 4,
 "nbformat_minor": 2
}
