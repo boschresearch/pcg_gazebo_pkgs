{
 "cells": [
  {
   "cell_type": "markdown",
   "metadata": {},
   "source": [
    "# Visuals\n",
    "\n",
    "The `<visual>` element specifies the shape of the geometry for rendering. It is a child element from `<link>` and a link can have multiple visual elements."
   ]
  },
  {
   "cell_type": "code",
   "execution_count": null,
   "metadata": {},
   "outputs": [],
   "source": [
    "# Import the element creator\n",
    "from pcg_gazebo.parsers.sdf import create_sdf_element"
   ]
  },
  {
   "cell_type": "code",
   "execution_count": null,
   "metadata": {},
   "outputs": [],
   "source": [
    "# The visual element is created with an empty geometry by default\n",
    "visual = create_sdf_element('visual')\n",
    "print(visual)"
   ]
  },
  {
   "cell_type": "code",
   "execution_count": null,
   "metadata": {},
   "outputs": [],
   "source": [
    "# To see the optional elements, use the method reset()\n",
    "visual.reset(with_optional_elements=True)\n",
    "print(visual)"
   ]
  },
  {
   "cell_type": "code",
   "execution_count": null,
   "metadata": {},
   "outputs": [],
   "source": [
    "# Setting the parameters for the visual element\n",
    "\n",
    "# Each visual in a link should have an unique name\n",
    "visual.name = 'custom_visual'\n",
    "# If cast_shadows is true, the geometry will cast shadows\n",
    "visual.cast_shadows = True\n",
    "# The transparency is a double in the range of [0, 1], 0 being opaque and 1 fully transparent\n",
    "visual.transparency = 0.2\n",
    "# Pose of the visual geometry with respect to a frame\n",
    "visual.pose = [0, 0.2, 0, 0, 0, 0]\n",
    "visual.pose.frame = 'base_link'\n",
    "\n",
    "print(visual)"
   ]
  },
  {
   "cell_type": "code",
   "execution_count": null,
   "metadata": {},
   "outputs": [],
   "source": [
    "# Setting different geometries to the visual element\n",
    "visual.geometry.box = create_sdf_element('box')\n",
    "print(visual)\n",
    "visual.geometry.sphere = create_sdf_element('sphere')\n",
    "print(visual)\n",
    "visual.geometry.cylinder = create_sdf_element('cylinder')\n",
    "print(visual)\n",
    "visual.geometry.plane = create_sdf_element('plane')\n",
    "print(visual)\n",
    "visual.geometry.mesh = create_sdf_element('mesh')\n",
    "visual.geometry.mesh.reset(with_optional_elements=True)\n",
    "print(visual)\n",
    "visual.geometry.image = create_sdf_element('image')\n",
    "print(visual)\n",
    "visual.geometry.polyline = create_sdf_element('polyline')\n",
    "print(visual)"
   ]
  },
  {
   "cell_type": "code",
   "execution_count": null,
   "metadata": {},
   "outputs": [],
   "source": [
    "# Optional elements can also be created dynamically\n",
    "visual = create_sdf_element('visual')\n",
    "print(visual)"
   ]
  },
  {
   "cell_type": "code",
   "execution_count": null,
   "metadata": {},
   "outputs": [],
   "source": [
    "visual.cast_shadows = True\n",
    "print(visual)\n"
   ]
  },
  {
   "cell_type": "code",
   "execution_count": null,
   "metadata": {},
   "outputs": [],
   "source": [
    "visual.pose = [0, 0.2, 0, 0, 0, 0]\n",
    "print(visual)"
   ]
  },
  {
   "cell_type": "code",
   "execution_count": null,
   "metadata": {},
   "outputs": [],
   "source": [
    "# The geometry entity can be set with a dictionary with all the child parameters\n",
    "visual.geometry.box = dict(size=[2, 3, 4])\n",
    "print(visual)"
   ]
  },
  {
   "cell_type": "code",
   "execution_count": null,
   "metadata": {},
   "outputs": [],
   "source": [
    "# The pose, as other variables, can be set using a dictionary\n",
    "# For SDF elements with no child elements, only values, the dictionary must always have a key 'value'\n",
    "#      d = {value=[0, 0, 0, 0, 0, 0]}\n",
    "# If the element contains attributes, as the attribute 'frame' in the element 'pose', there should be a key\n",
    "# 'attributes' with a dictionary containing all the attributes\n",
    "#      d = {value=[0, 0, 0, 0, 0, 0], attributes=dict(frame='new_frame')}\n",
    "visual.pose = {'value': [0, 0.2, 0, 0, 0, 0], 'attributes': {'frame': 'new_frame'}}\n",
    "print(visual)"
   ]
  }
 ],
 "metadata": {
  "kernelspec": {
   "display_name": "Python 3",
   "language": "python",
   "name": "python3"
  },
  "language_info": {
   "codemirror_mode": {
    "name": "ipython",
    "version": 3
   },
   "file_extension": ".py",
   "mimetype": "text/x-python",
   "name": "python",
   "nbconvert_exporter": "python",
   "pygments_lexer": "ipython3"
  }
 },
 "nbformat": 4,
 "nbformat_minor": 2
}
