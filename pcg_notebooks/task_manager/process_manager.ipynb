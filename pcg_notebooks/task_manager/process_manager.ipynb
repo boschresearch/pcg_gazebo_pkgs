{
 "cells": [
  {
   "cell_type": "markdown",
   "metadata": {},
   "source": [
    "# Process manager\n",
    "\n",
    "The process manager allows the construction of sets of tasks to be run, which can be (but are not limited to) launch files or ROS nodes to bring up a system that may include an instance of Gazebo.\n",
    "Each instance of the process manager can be set with a different `ROS_MASTER_URI` and `GAZEBO_MASTER_URI`, so that multiple `roscore` and `gazebo` instances can be initialized on the same host at the same time."
   ]
  },
  {
   "cell_type": "markdown",
   "metadata": {},
   "source": [
    "## Starting a process manager with default parameters"
   ]
  },
  {
   "cell_type": "code",
   "execution_count": null,
   "metadata": {},
   "outputs": [],
   "source": [
    "from pcg_gazebo.task_manager import ProcessManager\n",
    "# A process manager can be started by itself with an empty list of tasks\n",
    "process_manager = ProcessManager()\n",
    "# At this point neither Gazebo or roscore are running\n",
    "# When no arguments are given, the default hostname and port\n",
    "# arguments are going to be used.\n",
    "print('ROS network configuration:')\n",
    "print(process_manager.ros_config)"
   ]
  },
  {
   "cell_type": "code",
   "execution_count": null,
   "metadata": {},
   "outputs": [],
   "source": [
    "# At first, no tasks are available in the tasks list\n",
    "print(process_manager.get_task_list())"
   ]
  },
  {
   "cell_type": "code",
   "execution_count": null,
   "metadata": {},
   "outputs": [],
   "source": [
    "print('Check all the process stages available')\n",
    "print(process_manager.stages)"
   ]
  },
  {
   "cell_type": "code",
   "execution_count": null,
   "metadata": {},
   "outputs": [],
   "source": [
    "# You can start roscore by calling the method below\n",
    "process_manager.create_ros_core_task()"
   ]
  },
  {
   "cell_type": "code",
   "execution_count": null,
   "metadata": {},
   "outputs": [],
   "source": [
    "# Now the roscore task can be found in the list\n",
    "print(process_manager.get_task_list())"
   ]
  },
  {
   "cell_type": "code",
   "execution_count": null,
   "metadata": {},
   "outputs": [],
   "source": [
    "# The task can be started using the method below\n",
    "# Running individual tasks will not use the stage order \n",
    "process_manager.run_task('roscore')"
   ]
  },
  {
   "cell_type": "code",
   "execution_count": null,
   "metadata": {},
   "outputs": [],
   "source": [
    "# Check if the task is running\n",
    "print('Is task running? {}'.format(process_manager.is_task_running('roscore')))"
   ]
  },
  {
   "cell_type": "code",
   "execution_count": null,
   "metadata": {},
   "outputs": [],
   "source": [
    "# Creating an RViz task with a timeout\n",
    "# The required flag, like the flag for ROS nodes, says that once this task dies, \n",
    "# all other tasks must be killed.\n",
    "# The process timeout starts a timer and will kill the task in the amount of seconds\n",
    "# given by process_timeout\n",
    "# IMPORTANT: process_timeout is based on the machine clock, not the simulation clock\n",
    "# process_timeout=None means that the process will run without a timeout\n",
    "process_manager.create_rviz_task(required=True, process_timeout=10)\n",
    "print(process_manager.get_task_list())"
   ]
  },
  {
   "cell_type": "code",
   "execution_count": null,
   "metadata": {},
   "outputs": [],
   "source": [
    "# After 10 seconds all tasks will be killed along with rviz\n",
    "process_manager.run_task('rviz')\n",
    "process_manager.wait()\n"
   ]
  },
  {
   "cell_type": "code",
   "execution_count": null,
   "metadata": {},
   "outputs": [],
   "source": [
    "process_manager.kill_all_tasks()\n",
    "del process_manager"
   ]
  },
  {
   "cell_type": "markdown",
   "metadata": {},
   "source": [
    "## Running Gazebo\n",
    "\n",
    "Similar to RViz, Gazebo can also be started. The same process will be repeated to start Gazebo with the empty world scenario."
   ]
  },
  {
   "cell_type": "code",
   "execution_count": null,
   "metadata": {},
   "outputs": [],
   "source": [
    "# At first, no tasks are available in the tasks list\n",
    "# A process manager can be started by itself with an empty list of tasks\n",
    "# When ros_port and/or gazebo_port is given as None, a random port will be chosen\n",
    "process_manager = ProcessManager(ros_port=None, gazebo_port=None)\n",
    "print('ROS network configuration:')\n",
    "print(process_manager.ros_config)"
   ]
  },
  {
   "cell_type": "code",
   "execution_count": null,
   "metadata": {},
   "outputs": [],
   "source": [
    "# A Gazebo task can also be started with a process timeout\n",
    "process_manager.create_gazebo_empty_world_task(required=True, process_timeout=10)\n",
    "print('Check all tasks available')\n",
    "print(process_manager.get_task_list())\n",
    "print('Check all the process stages available')\n",
    "print(process_manager.stages)"
   ]
  },
  {
   "cell_type": "code",
   "execution_count": null,
   "metadata": {},
   "outputs": [],
   "source": [
    "process_manager.run_all_tasks()\n",
    "# A roscore stage should be automatically added to the process manager list\n",
    "print(process_manager.stages)\n",
    "process_manager.wait()\n"
   ]
  },
  {
   "cell_type": "code",
   "execution_count": null,
   "metadata": {},
   "outputs": [],
   "source": [
    "process_manager.kill_all_tasks()\n",
    "del process_manager\n"
   ]
  },
  {
   "cell_type": "code",
   "execution_count": null,
   "metadata": {},
   "outputs": [],
   "source": [
    "# But a task that contains a Gazebo instance can also be started with a simulation timeout\n",
    "# meaning that the process will be killed only when the simulation time reaches a timeout\n",
    "# At first, no tasks are available in the tasks list\n",
    "# A process manager can be started by itself with an empty list of tasks\n",
    "# When ros_port and/or gazebo_port is given as None, a random port will be chosen\n",
    "process_manager = ProcessManager(ros_port=None, gazebo_port=None)\n",
    "print('ROS network configuration:')\n",
    "print(process_manager.ros_config)\n",
    "\n",
    "process_manager.create_gazebo_empty_world_task(required=True, simulation_timeout=10)\n",
    "process_manager.run_all_tasks()\n",
    "process_manager.wait()"
   ]
  },
  {
   "cell_type": "code",
   "execution_count": null,
   "metadata": {},
   "outputs": [],
   "source": [
    "print('Is task running? {}'.format(process_manager.is_task_running('gazebo')))"
   ]
  }
 ],
 "metadata": {
  "kernelspec": {
   "display_name": "Python 3",
   "language": "python",
   "name": "python3"
  },
  "language_info": {
   "codemirror_mode": {
    "name": "ipython",
    "version": 3
   },
   "file_extension": ".py",
   "mimetype": "text/x-python",
   "name": "python",
   "nbconvert_exporter": "python",
   "pygments_lexer": "ipython3"
  }
 },
 "nbformat": 4,
 "nbformat_minor": 2
}
