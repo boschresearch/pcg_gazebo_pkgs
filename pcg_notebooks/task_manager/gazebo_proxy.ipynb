{
 "cells": [
  {
   "cell_type": "markdown",
   "metadata": {},
   "source": [
    "# Gazebo proxy\n",
    "\n",
    "The Gazebo proxy is an implementation of interfaces with all services provided by the `gazebo_ros_pkgs`. It allows easy use and from of the simulation through Python. \n",
    "\n",
    "It can be configured for different `ROS_MASTER_URI` and `GAZEBO_MASTER_URI` environment variables to access instances of Gazebo running in other hosts/ports.\n",
    "\n",
    "The tutorial below will make use of the simulation manager to start instances of Gazebo."
   ]
  },
  {
   "cell_type": "code",
   "execution_count": null,
   "metadata": {},
   "outputs": [],
   "source": [
    "# Importing the Gazebo proxy\n",
    "from pcg_gazebo.task_manager import GazeboProxy"
   ]
  },
  {
   "cell_type": "markdown",
   "metadata": {},
   "source": [
    "The Gazebo proxy may also work with an instance of Gazebo that has been started external to the scope of this package, for example by running\n",
    "\n",
    "```\n",
    "roslaunch gazebo_ros empty_world.launch\n",
    "```\n",
    "\n",
    "The only instance will be found by using the input hostname and ports for which they are running. \n",
    "Here we will use the simulation manager."
   ]
  },
  {
   "cell_type": "code",
   "execution_count": null,
   "metadata": {},
   "outputs": [],
   "source": [
    "# If there is a Gazebo instance running, you can spawn the box into the simulation\n",
    "from pcg_gazebo.task_manager import Server\n",
    "# First create a simulation server\n",
    "server = Server()\n",
    "# Create a simulation manager named default\n",
    "server.create_simulation('default')\n",
    "simulation = server.get_simulation('default')\n",
    "# Run an instance of the empty.world scenario\n",
    "# This is equivalent to run\n",
    "#      roslaunch gazebo_ros empty_world.launch\n",
    "# with all default parameters\n",
    "if not simulation.create_gazebo_empty_world_task():\n",
    "    raise RuntimeError('Task for gazebo empty world could not be created')"
   ]
  },
  {
   "cell_type": "code",
   "execution_count": null,
   "metadata": {},
   "outputs": [],
   "source": [
    "# A task named 'gazebo' the added to the tasks list\n",
    "print(simulation.get_task_list())\n",
    "# But it is still not running\n",
    "print('Is Gazebo running: {}'.format(simulation.is_task_running('gazebo')))"
   ]
  },
  {
   "cell_type": "code",
   "execution_count": null,
   "metadata": {},
   "outputs": [],
   "source": [
    "# Run Gazebo\n",
    "simulation.run_all_tasks()"
   ]
  },
  {
   "cell_type": "markdown",
   "metadata": {},
   "source": [
    "Adding some models to the simulation to demonstrate the Gazebo proxy methods. \n"
   ]
  },
  {
   "cell_type": "code",
   "execution_count": null,
   "metadata": {
    "slideshow": {
     "slide_type": "slide"
    }
   },
   "outputs": [],
   "source": [
    "# Now create the Gazebo proxy with the default parameters. \n",
    "# If these input arguments are not provided, they will be used per default.\n",
    "gazebo_proxy = simulation.get_gazebo_proxy()\n",
    "# The timeout argument will be used raise an exception in case Gazebo \n",
    "# fails to start"
   ]
  },
  {
   "cell_type": "code",
   "execution_count": null,
   "metadata": {},
   "outputs": [],
   "source": [
    "from pcg_gazebo.simulation import create_object\n",
    "from pcg_gazebo.generators import WorldGenerator\n",
    "\n",
    "generator = WorldGenerator(gazebo_proxy)\n",
    "\n",
    "box = create_object('box')\n",
    "box.add_inertial(mass=20)\n",
    "print(box.to_sdf('model'))"
   ]
  },
  {
   "cell_type": "code",
   "execution_count": null,
   "metadata": {},
   "outputs": [],
   "source": [
    "generator.spawn_model(\n",
    "    model=box, \n",
    "    robot_namespace='box_1',\n",
    "    pos=[-2, -2, 3])\n",
    "\n",
    "generator.spawn_model(\n",
    "    model=box, \n",
    "    robot_namespace='box_2',\n",
    "    pos=[2, 2, 3])"
   ]
  },
  {
   "cell_type": "markdown",
   "metadata": {},
   "source": [
    "## Pausing/unpausing the simulation\n"
   ]
  },
  {
   "cell_type": "code",
   "execution_count": null,
   "metadata": {},
   "outputs": [],
   "source": [
    "from time import time, sleep\n",
    "pause_timeout = 10 # seconds\n",
    "start_time = time()\n",
    "# Pausing simulation\n",
    "gazebo_proxy.pause()\n",
    "print('Simulation time before pause={}'.format(gazebo_proxy.sim_time))\n",
    "while time() - start_time < pause_timeout:\n",
    "    print('Gazebo paused, simulation time={}'.format(gazebo_proxy.sim_time))\n",
    "    sleep(1)\n",
    "print('Unpausing simulation!')\n",
    "gazebo_proxy.unpause()\n",
    "sleep(2)\n",
    "print('Simulation time after pause={}'.format(gazebo_proxy.sim_time))"
   ]
  },
  {
   "cell_type": "markdown",
   "metadata": {},
   "source": [
    "## Get world properties\n",
    "\n",
    "The world properties return \n",
    "\n",
    "* Simulation time (`sim_time`)\n",
    "* List of names of models (`model_names`)\n",
    "* Is rendering enabled flag (`rendering_enabled`)\n",
    "\n",
    "The return of this function is simply the service object [`GetWorldProperties`](https://github.com/ros-simulation/gazebo_ros_pkgs/blob/kinetic-devel/gazebo_msgs/srv/GetWorldProperties.srv)."
   ]
  },
  {
   "cell_type": "code",
   "execution_count": null,
   "metadata": {},
   "outputs": [],
   "source": [
    "# The world properties returns the following\n",
    "gazebo_proxy.get_world_properties()"
   ]
  },
  {
   "cell_type": "markdown",
   "metadata": {},
   "source": [
    "## Model properties"
   ]
  },
  {
   "cell_type": "code",
   "execution_count": null,
   "metadata": {},
   "outputs": [],
   "source": [
    "# Get list of models\n",
    "gazebo_proxy.get_model_names()"
   ]
  },
  {
   "cell_type": "code",
   "execution_count": null,
   "metadata": {},
   "outputs": [],
   "source": [
    "# Get model properties\n",
    "for model in gazebo_proxy.get_model_names():\n",
    "    print(model)\n",
    "    print(gazebo_proxy.get_model_properties(model))\n",
    "    print('-----------------')"
   ]
  },
  {
   "cell_type": "code",
   "execution_count": null,
   "metadata": {},
   "outputs": [],
   "source": [
    "# Get model state\n",
    "for model in gazebo_proxy.get_model_names():\n",
    "    print(model)\n",
    "    print(gazebo_proxy.get_model_state(model_name=model, reference_frame='world'))\n",
    "    print('-----------------')"
   ]
  },
  {
   "cell_type": "code",
   "execution_count": null,
   "metadata": {},
   "outputs": [],
   "source": [
    "# Check if model exists\n",
    "print('Does ground_plane exist? {}'.format(gazebo_proxy.model_exists('ground_plane')))\n",
    "print('Does my_model exist? {}'.format(gazebo_proxy.model_exists('my_model')))"
   ]
  },
  {
   "cell_type": "code",
   "execution_count": null,
   "metadata": {},
   "outputs": [],
   "source": [
    "# Get list of link names for a model\n",
    "for model in gazebo_proxy.get_model_names():\n",
    "    print(model)\n",
    "    print(gazebo_proxy.get_link_names(model))\n",
    "    print('-----------------')"
   ]
  },
  {
   "cell_type": "code",
   "execution_count": null,
   "metadata": {},
   "outputs": [],
   "source": [
    "# Test if model has a link\n",
    "print('Does ground_plane have a link named link? {}'.format(gazebo_proxy.has_link(model_name='ground_plane', link_name='link')))"
   ]
  },
  {
   "cell_type": "code",
   "execution_count": null,
   "metadata": {},
   "outputs": [],
   "source": [
    "# Get link properties\n",
    "for model in gazebo_proxy.get_model_names():\n",
    "    print(model)\n",
    "    for link in gazebo_proxy.get_link_names(model_name=model):\n",
    "        print(' - ' + link)\n",
    "        print(gazebo_proxy.get_link_properties(model_name=model, link_name=link))\n",
    "        print('-----------------')\n",
    "    print('==================')"
   ]
  },
  {
   "cell_type": "code",
   "execution_count": null,
   "metadata": {},
   "outputs": [],
   "source": [
    "# Get link state\n",
    "for model in gazebo_proxy.get_model_names():\n",
    "    print(model)\n",
    "    for link in gazebo_proxy.get_link_names(model_name=model):\n",
    "        print(' - ' + link)\n",
    "        print(gazebo_proxy.get_link_state(model_name=model, link_name=link))\n",
    "        print('-----------------')\n",
    "    print('==================')"
   ]
  },
  {
   "cell_type": "markdown",
   "metadata": {},
   "source": [
    "## Get physics properties\n",
    "\n",
    "The physics properties returns the [GetPhysicsProperties](https://github.com/ros-simulation/gazebo_ros_pkgs/blob/kinetic-devel/gazebo_msgs/srv/GetPhysicsProperties.srv) response with the current parameters for the physics engine. Currently only the parameters for the ODE engine can be retrieved."
   ]
  },
  {
   "cell_type": "code",
   "execution_count": null,
   "metadata": {},
   "outputs": [],
   "source": [
    "print(gazebo_proxy.get_physics_properties())"
   ]
  },
  {
   "cell_type": "markdown",
   "metadata": {},
   "source": [
    "## Apply wrench"
   ]
  },
  {
   "cell_type": "code",
   "execution_count": null,
   "metadata": {},
   "outputs": [],
   "source": [
    "# Applying wrench to a link in the simulation\n",
    "# The input arguments are\n",
    "#  - model_name\n",
    "#  - link_name\n",
    "#  - force: force vector [x, y, z]\n",
    "#  - torque: torque vector [x, y, z]\n",
    "#  - start_time: in seconds, if it is a value lower than simulation time, the wrench will be applied as soon as possible\n",
    "#  - duration: in seconds\n",
    "#              if duration < 0, apply wrench continuously without end\n",
    "#              if duration = 0, do nothing\n",
    "#              if duration < step size, apply wrench for one step size\n",
    "#  - reference_point: [x, y, z] coordinate point where wrench will be applied wrt the reference frame\n",
    "#  - reference_frame: reference frame for the reference point, if None it will be set as the provided model_name::link_name\n",
    "gazebo_proxy.apply_body_wrench(\n",
    "    model_name='box_1',\n",
    "    link_name='box',\n",
    "    force=[100, 0, 0],\n",
    "    torque=[0, 0, 100],\n",
    "    start_time=0,\n",
    "    duration=5,\n",
    "    reference_point=[0, 0, 0],\n",
    "    reference_frame=None)\n",
    "\n",
    "gazebo_proxy.apply_body_wrench(\n",
    "    model_name='box_2',\n",
    "    link_name='box',\n",
    "    force=[10, 0, 200],\n",
    "    torque=[0, 0, 150],\n",
    "    start_time=0,\n",
    "    duration=4,\n",
    "    reference_point=[0, 0, 0],\n",
    "    reference_frame=None)\n",
    "\n",
    "start_time = time()\n",
    "while time() - start_time < 10:\n",
    "    sleep(1)"
   ]
  },
  {
   "cell_type": "markdown",
   "metadata": {},
   "source": [
    "## Move models in the simulation"
   ]
  },
  {
   "cell_type": "code",
   "execution_count": null,
   "metadata": {},
   "outputs": [],
   "source": [
    "gazebo_proxy.move_model(\n",
    "    model_name='box_1', \n",
    "    pos=[2, 2, 15],\n",
    "    rot=[0, 0, 0],\n",
    "    reference_frame='world')\n",
    "\n",
    "gazebo_proxy.move_model(\n",
    "    model_name='box_2', \n",
    "    pos=[-2, -1, 4],\n",
    "    rot=[0, 0, 0],\n",
    "    reference_frame='world')"
   ]
  },
  {
   "cell_type": "code",
   "execution_count": null,
   "metadata": {},
   "outputs": [],
   "source": [
    "# End the simulation by killing the Gazebo task\n",
    "simulation.kill_all_tasks()"
   ]
  }
 ],
 "metadata": {
  "kernelspec": {
   "display_name": "Python 3",
   "language": "python",
   "name": "python3"
  },
  "language_info": {
   "codemirror_mode": {
    "name": "ipython",
    "version": 3
   },
   "file_extension": ".py",
   "mimetype": "text/x-python",
   "name": "python",
   "nbconvert_exporter": "python",
   "pygments_lexer": "ipython3"
  }
 },
 "nbformat": 4,
 "nbformat_minor": 2
}
