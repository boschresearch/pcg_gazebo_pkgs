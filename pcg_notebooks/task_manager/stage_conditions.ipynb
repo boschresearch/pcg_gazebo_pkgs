{
 "cells": [
  {
   "cell_type": "markdown",
   "metadata": {},
   "source": [
    "# Simulation stage conditions"
   ]
  },
  {
   "cell_type": "code",
   "execution_count": null,
   "metadata": {},
   "outputs": [],
   "source": [
    "# If there is a Gazebo instance running, you can spawn the box into the simulation\n",
    "from pcg_gazebo.task_manager import Server\n",
    "# First create a simulation server\n",
    "server = Server()\n",
    "# Create a simulation manager named default\n",
    "server.create_simulation('default')\n",
    "simulation = server.get_simulation('default')\n",
    "# Run an instance of the empty.world scenario\n",
    "# This is equivalent to run\n",
    "#      roslaunch gazebo_ros empty_world.launch\n",
    "# with all default parameters\n",
    "simulation.create_gazebo_empty_world_task(paused=True, simulation_timeout=10)"
   ]
  },
  {
   "cell_type": "code",
   "execution_count": null,
   "metadata": {},
   "outputs": [],
   "source": [
    "from pcg_gazebo.simulation import create_object\n",
    "from pcg_gazebo.generators import WorldGenerator\n",
    "\n",
    "def model_exists(name):\n",
    "    print('Testing if model {} exists'.format(name))\n",
    "    gazebo_proxy = simulation.get_gazebo_proxy()    \n",
    "    success = name in gazebo_proxy.get_model_names()\n",
    "    print('Model {} exists? {}'.format(name, success))\n",
    "    return success\n",
    "\n",
    "def spawn_model():\n",
    "    print('Spawning box into Gazebo')\n",
    "    obj = create_object('box')\n",
    "    obj.size = [0.8, 0.7, 0.9]\n",
    "    obj.add_inertial(30)\n",
    "    \n",
    "    gazebo_proxy = simulation.get_gazebo_proxy()    \n",
    "    generator = WorldGenerator(gazebo_proxy=gazebo_proxy)\n",
    "    for x in [-5, 0, 5]:\n",
    "        for y in [-5, 0, 5]:\n",
    "            generator.spawn_model(\n",
    "                    model=obj, \n",
    "                    robot_namespace='box_{}_{}'.format(x, y),\n",
    "                    pos=[x, y, 10])\n",
    "    print('Spawning box finished')\n",
    "    return True\n",
    "\n",
    "def unpause():\n",
    "    print('Unpause simulation')\n",
    "    gazebo_proxy = simulation.get_gazebo_proxy()    \n",
    "    gazebo_proxy.unpause()\n",
    "    return True\n",
    "    "
   ]
  },
  {
   "cell_type": "code",
   "execution_count": null,
   "metadata": {},
   "outputs": [],
   "source": [
    "# Adding a stage starting condition to the gazebo stage to check \n",
    "# if roscore is running\n",
    "simulation.add_stage_start_condition('gazebo', simulation.is_roscore_running)\n",
    "# Add stage end condition to be sure Gazebo is running\n",
    "simulation.add_stage_end_condition('gazebo', simulation.is_gazebo_running)\n",
    "# Add pre-stage function to spawn the models\n",
    "simulation.add_post_stage_fcn('gazebo', spawn_model)\n",
    "\n",
    "# Adding final empty stage to check if model was created\n",
    "simulation.add_stage('post-init')\n",
    "# Adding stage end condition where the model must exist in \n",
    "# Gazebo\n",
    "simulation.add_stage_start_condition('post-init', lambda: model_exists('box_0_0'))\n",
    "simulation.add_post_stage_fcn('post-init', unpause)"
   ]
  },
  {
   "cell_type": "code",
   "execution_count": null,
   "metadata": {},
   "outputs": [],
   "source": [
    "for tag in simulation.stages:\n",
    "    print('Stage: {}'.format(tag))\n",
    "    for task in simulation.get_tasks_from_stage(tag):\n",
    "        print('  - {}'.format(task))"
   ]
  },
  {
   "cell_type": "code",
   "execution_count": null,
   "metadata": {},
   "outputs": [],
   "source": [
    "simulation.run_all_tasks()"
   ]
  },
  {
   "cell_type": "code",
   "execution_count": null,
   "metadata": {},
   "outputs": [],
   "source": [
    "simulation.wait()"
   ]
  }
 ],
 "metadata": {
  "kernelspec": {
   "display_name": "Python 3",
   "language": "python",
   "name": "python3"
  },
  "language_info": {
   "codemirror_mode": {
    "name": "ipython",
    "version": 3
   },
   "file_extension": ".py",
   "mimetype": "text/x-python",
   "name": "python",
   "nbconvert_exporter": "python",
   "pygments_lexer": "ipython3"
  }
 },
 "nbformat": 4,
 "nbformat_minor": 2
}
