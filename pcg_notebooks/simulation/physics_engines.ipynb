{
 "cells": [
  {
   "cell_type": "markdown",
   "metadata": {},
   "source": [
    "# Physics engines\n",
    "\n",
    "Gazebo has interfaces with four physics engines\n",
    "\n",
    "* ODE\n",
    "* Simbody\n",
    "* Bullet\n",
    "* DART\n",
    "\n",
    "from which only DART has to be compiled separately.\n",
    "The modules presented below allow the generation of the necessary physics engine's SDF parameters using classes."
   ]
  },
  {
   "cell_type": "markdown",
   "metadata": {},
   "source": [
    "## Physics engine object\n",
    "\n",
    "The physics engine object holds the global parameters valid for all physics engines. \n",
    "\n",
    "If this modules is used to generate the SDF data, the default parameters of the physics engine chosen (`ode`, `bullet`, `simbody` or `dart`) will be used."
   ]
  },
  {
   "cell_type": "code",
   "execution_count": null,
   "metadata": {},
   "outputs": [],
   "source": [
    "from pcg_gazebo.simulation.physics import Physics\n",
    "physics = Physics()\n",
    "\n",
    "# Iterate through all parameters\n",
    "for name in physics.get_parameter_names():\n",
    "    print('{}: {}'.format(name, physics.get_parameter(name)))\n",
    "    "
   ]
  },
  {
   "cell_type": "code",
   "execution_count": null,
   "metadata": {},
   "outputs": [],
   "source": [
    "# The description of the parameters is also available\n",
    "for name in physics.get_parameter_names():\n",
    "    physics.print_description(name)"
   ]
  },
  {
   "cell_type": "code",
   "execution_count": null,
   "metadata": {},
   "outputs": [],
   "source": [
    "# It is also possible to generate the SDF files.\n",
    "# The SDF object can also be retrieved and altered if necessary\n",
    "print(physics.to_sdf('physics'))\n"
   ]
  },
  {
   "cell_type": "code",
   "execution_count": null,
   "metadata": {},
   "outputs": [],
   "source": [
    "print(physics.to_sdf('world'))"
   ]
  },
  {
   "cell_type": "code",
   "execution_count": null,
   "metadata": {},
   "outputs": [],
   "source": [
    "# Let's make a custom parameter set for the physics engine\n",
    "physics.max_step_size = 0.01\n",
    "physics.real_time_factor = 1\n",
    "physics.real_time_update_rate = 500\n",
    "physics.max_contacts = 5\n",
    "physics.name = 'custom_physics'\n",
    "\n",
    "print(physics.to_sdf())"
   ]
  },
  {
   "cell_type": "code",
   "execution_count": null,
   "metadata": {},
   "outputs": [],
   "source": [
    "# The resulting world file can be exported to an .world file and run in Gazebo\n",
    "# This shows how to create an SDF file from stratch\n",
    "sdf = physics.to_sdf('sdf')\n",
    "print(sdf)"
   ]
  },
  {
   "cell_type": "code",
   "execution_count": null,
   "metadata": {},
   "outputs": [],
   "source": [
    "# Export to a .world file\n",
    "world_filename = '/tmp/physics.world'\n",
    "sdf.export_xml(filename=world_filename)"
   ]
  },
  {
   "cell_type": "code",
   "execution_count": null,
   "metadata": {},
   "outputs": [],
   "source": [
    "# Start a PCG server to run the world file in Gazebo\n",
    "from pcg_gazebo.task_manager import Server\n",
    "server = Server()\n",
    "# Create a simulation manager named default\n",
    "server.create_simulation('default')\n",
    "simulation = server.get_simulation('default')\n",
    "# Run an instance of the empty.world scenario\n",
    "# This is equivalent to run\n",
    "#      roslaunch gazebo_ros empty_world.launch\n",
    "# with the parameters provided to run the world file created\n",
    "simulation.create_gazebo_task(\n",
    "    name='gazebo',\n",
    "    world=world_filename,\n",
    "    gui=True,\n",
    "    physics='ode',\n",
    "    paused=False,\n",
    "    required=True,\n",
    "    process_timeout=10)\n",
    "# A task named 'gazebo' the added to the tasks list\n",
    "print(simulation.get_task_list())\n",
    "# But it is still not running\n",
    "print('Is Gazebo running: {}'.format(simulation.is_task_running('gazebo')))\n",
    "# Run Gazebo\n",
    "simulation.run_all_tasks()"
   ]
  },
  {
   "cell_type": "code",
   "execution_count": null,
   "metadata": {},
   "outputs": [],
   "source": [
    "# Check if the parameters were initialized correctly\n",
    "# We need a Gazebo proxy object to check it\n",
    "from pcg_gazebo.task_manager import GazeboProxy\n",
    "# Create a Gazebo proxy\n",
    "gazebo_proxy = simulation.get_gazebo_proxy()\n",
    "\n",
    "# It is important to note that the default get_physics_properties service from Gazebo\n",
    "# returns only the global and the ODE engine parameters\n",
    "print(gazebo_proxy.get_physics_properties())"
   ]
  },
  {
   "cell_type": "code",
   "execution_count": null,
   "metadata": {},
   "outputs": [],
   "source": [
    "simulation.wait()\n",
    "simulation.kill_all_tasks()"
   ]
  },
  {
   "cell_type": "markdown",
   "metadata": {},
   "source": [
    "## ODE\n",
    "\n",
    "It is possible to create an instance of the physics engine configuration for each engine available.\n",
    "\n",
    "The ODE is presented on the following sections."
   ]
  },
  {
   "cell_type": "code",
   "execution_count": null,
   "metadata": {},
   "outputs": [],
   "source": [
    "from pcg_gazebo.simulation.physics import ODE\n",
    "physics = ODE()\n",
    "\n",
    "# Iterate through all parameters\n",
    "for name in physics.get_parameter_names():\n",
    "    print('{}: {}'.format(name, physics.get_parameter(name)))"
   ]
  },
  {
   "cell_type": "code",
   "execution_count": null,
   "metadata": {},
   "outputs": [],
   "source": [
    "# The description of the parameters is also available\n",
    "for name in physics.get_parameter_names():\n",
    "    physics.print_description(name)"
   ]
  },
  {
   "cell_type": "code",
   "execution_count": null,
   "metadata": {},
   "outputs": [],
   "source": [
    "# It is also possible to generate the SDF files.\n",
    "# The SDF object can also be retrieved and altered if necessary\n",
    "print(physics.to_sdf('physics'))"
   ]
  },
  {
   "cell_type": "code",
   "execution_count": null,
   "metadata": {},
   "outputs": [],
   "source": [
    "print(physics.to_sdf('world'))"
   ]
  },
  {
   "cell_type": "code",
   "execution_count": null,
   "metadata": {},
   "outputs": [],
   "source": [
    "# Let's change some parameters\n",
    "physics.max_step_size = 0.005\n",
    "physics.friction_model = 'box_model'\n",
    "physics.sor = 1.5\n",
    "physics.max_contacts = 10\n",
    "physics.name = 'custom_ode'\n",
    "print(physics.to_sdf())"
   ]
  },
  {
   "cell_type": "code",
   "execution_count": null,
   "metadata": {},
   "outputs": [],
   "source": [
    "# Exporting this world configuration to a file allows running the \n",
    "# configured physics engine in Gazebo\n",
    "sdf = physics.to_sdf('sdf')\n",
    "print(sdf)"
   ]
  },
  {
   "cell_type": "code",
   "execution_count": null,
   "metadata": {},
   "outputs": [],
   "source": [
    "# Export to a .world file\n",
    "world_filename = '/tmp/physics_ode.world'\n",
    "sdf.export_xml(filename=world_filename)"
   ]
  },
  {
   "cell_type": "code",
   "execution_count": null,
   "metadata": {},
   "outputs": [],
   "source": [
    "# Remove old gazebo task\n",
    "server.create_simulation('ode')\n",
    "simulation = server.get_simulation('ode')\n",
    "# Create new task\n",
    "simulation.create_gazebo_task(\n",
    "    name='gazebo',\n",
    "    world=world_filename,\n",
    "    gui=True,\n",
    "    physics=physics.engine,\n",
    "    paused=False,\n",
    "    required=True,\n",
    "    process_timeout=10)\n",
    "# A task named 'gazebo' the added to the tasks list\n",
    "print(simulation.get_task_list())\n",
    "# But it is still not running\n",
    "print('Is Gazebo running: {}'.format(simulation.is_task_running('gazebo')))\n",
    "# Run Gazebo\n",
    "simulation.run_all_tasks()"
   ]
  },
  {
   "cell_type": "code",
   "execution_count": null,
   "metadata": {},
   "outputs": [],
   "source": [
    "# Check if the parameters were initialized correctly\n",
    "gazebo_proxy = simulation.get_gazebo_proxy()\n",
    "\n",
    "# It is important to note that the default get_physics_properties service from Gazebo\n",
    "# returns only the global and the ODE engine parameters\n",
    "print(gazebo_proxy.get_physics_properties())"
   ]
  },
  {
   "cell_type": "code",
   "execution_count": null,
   "metadata": {},
   "outputs": [],
   "source": [
    "simulation.wait()\n",
    "simulation.kill_all_tasks()"
   ]
  },
  {
   "cell_type": "markdown",
   "metadata": {},
   "source": [
    "## Bullet"
   ]
  },
  {
   "cell_type": "code",
   "execution_count": null,
   "metadata": {},
   "outputs": [],
   "source": [
    "from pcg_gazebo.simulation.physics import Bullet\n",
    "physics = Bullet()\n",
    "\n",
    "# Iterate through all parameters\n",
    "for name in physics.get_parameter_names():\n",
    "    print('{}: {}'.format(name, physics.get_parameter(name)))"
   ]
  },
  {
   "cell_type": "code",
   "execution_count": null,
   "metadata": {},
   "outputs": [],
   "source": [
    "# The description of the parameters is also available\n",
    "for name in physics.get_parameter_names():\n",
    "    physics.print_description(name)"
   ]
  },
  {
   "cell_type": "code",
   "execution_count": null,
   "metadata": {},
   "outputs": [],
   "source": [
    "# It is also possible to generate the SDF files.\n",
    "# The SDF object can also be retrieved and altered if necessary\n",
    "print(physics.to_sdf('physics'))"
   ]
  },
  {
   "cell_type": "code",
   "execution_count": null,
   "metadata": {},
   "outputs": [],
   "source": [
    "print(physics.to_sdf('world'))"
   ]
  },
  {
   "cell_type": "code",
   "execution_count": null,
   "metadata": {},
   "outputs": [],
   "source": [
    "# Let's change some parameters\n",
    "physics.max_step_size = 0.005\n",
    "physics.cfm = 0.01\n",
    "physics.sor = 1.5\n",
    "physics.max_contacts = 5\n",
    "physics.name = 'custom_bullet'\n",
    "physics.real_time_update_rate = 500\n",
    "print(physics.to_sdf())"
   ]
  },
  {
   "cell_type": "code",
   "execution_count": null,
   "metadata": {},
   "outputs": [],
   "source": [
    "# Exporting this world configuration to a file allows running the \n",
    "# configured physics engine in Gazebo\n",
    "sdf = physics.to_sdf('sdf')\n",
    "print(sdf)"
   ]
  },
  {
   "cell_type": "code",
   "execution_count": null,
   "metadata": {},
   "outputs": [],
   "source": [
    "# Export to a .world file\n",
    "world_filename = '/tmp/physics_bullet.world'\n",
    "sdf.export_xml(filename=world_filename)"
   ]
  },
  {
   "cell_type": "code",
   "execution_count": null,
   "metadata": {},
   "outputs": [],
   "source": [
    "# Remove old gazebo task\n",
    "server.create_simulation('bullet')\n",
    "simulation = server.get_simulation('bullet')\n",
    "# Create new task\n",
    "simulation.create_gazebo_task(\n",
    "    name='gazebo',\n",
    "    world=world_filename,\n",
    "    gui=True,\n",
    "    physics=physics.engine,\n",
    "    paused=False,\n",
    "    required=True,\n",
    "    process_timeout=10)\n",
    "# A task named 'gazebo' the added to the tasks list\n",
    "print(simulation.get_task_list())\n",
    "# But it is still not running\n",
    "print('Is Gazebo running: {}'.format(simulation.is_task_running('gazebo')))\n",
    "# Run Gazebo\n",
    "simulation.run_all_tasks()\n",
    "\n",
    "# The get_physics_properties service does not support bullet parameters yet"
   ]
  },
  {
   "cell_type": "code",
   "execution_count": null,
   "metadata": {},
   "outputs": [],
   "source": [
    "simulation.wait()\n",
    "simulation.kill_all_tasks()"
   ]
  },
  {
   "cell_type": "markdown",
   "metadata": {},
   "source": [
    "## Simbody"
   ]
  },
  {
   "cell_type": "code",
   "execution_count": null,
   "metadata": {},
   "outputs": [],
   "source": [
    "from pcg_gazebo.simulation.physics import Simbody\n",
    "physics = Simbody()\n",
    "\n",
    "# Iterate through all parameters\n",
    "for name in physics.get_parameter_names():\n",
    "    print('{}: {}'.format(name, physics.get_parameter(name)))"
   ]
  },
  {
   "cell_type": "code",
   "execution_count": null,
   "metadata": {},
   "outputs": [],
   "source": [
    "# The description of the parameters is also available\n",
    "for name in physics.get_parameter_names():\n",
    "    physics.print_description(name)"
   ]
  },
  {
   "cell_type": "code",
   "execution_count": null,
   "metadata": {},
   "outputs": [],
   "source": [
    "# It is also possible to generate the SDF files.\n",
    "# The SDF object can also be retrieved and altered if necessary\n",
    "print(physics.to_sdf('physics'))"
   ]
  },
  {
   "cell_type": "code",
   "execution_count": null,
   "metadata": {},
   "outputs": [],
   "source": [
    "print(physics.to_sdf('world'))"
   ]
  },
  {
   "cell_type": "code",
   "execution_count": null,
   "metadata": {},
   "outputs": [],
   "source": [
    "# Let's change some parameters\n",
    "physics.max_step_size = 0.005\n",
    "physics.max_contacts = 8\n",
    "physics.name = 'custom_simbody'\n",
    "physics.static_friction = 1.0\n",
    "physics.real_time_update_rate = 500\n",
    "print(physics.to_sdf())"
   ]
  },
  {
   "cell_type": "code",
   "execution_count": null,
   "metadata": {},
   "outputs": [],
   "source": [
    "# Exporting this world configuration to a file allows running the \n",
    "# configured physics engine in Gazebo\n",
    "sdf = physics.to_sdf('sdf')\n",
    "print(sdf)"
   ]
  },
  {
   "cell_type": "code",
   "execution_count": null,
   "metadata": {},
   "outputs": [],
   "source": [
    "# Export to a .world file\n",
    "world_filename = '/tmp/physics_simbody.world'\n",
    "sdf.export_xml(filename=world_filename)"
   ]
  },
  {
   "cell_type": "code",
   "execution_count": null,
   "metadata": {},
   "outputs": [],
   "source": [
    "server.create_simulation('simbody')\n",
    "simulation = server.get_simulation('simbody')\n",
    "# Create new task\n",
    "simulation.create_gazebo_task(\n",
    "    name='gazebo',\n",
    "    world=world_filename,\n",
    "    gui=True,\n",
    "    physics=physics.engine,\n",
    "    paused=False,\n",
    "    required=True,\n",
    "    process_timeout=10)\n",
    "# A task named 'gazebo' the added to the tasks list\n",
    "print(simulation.get_task_list())\n",
    "# But it is still not running\n",
    "print('Is Gazebo running: {}'.format(simulation.is_task_running('gazebo')))\n",
    "# Run Gazebo\n",
    "simulation.run_all_tasks()\n",
    "\n",
    "# The get_physics_properties service does not support simbody parameters yet"
   ]
  },
  {
   "cell_type": "code",
   "execution_count": null,
   "metadata": {},
   "outputs": [],
   "source": [
    "simulation.wait()\n",
    "simulation.kill_all_tasks()"
   ]
  }
 ],
 "metadata": {
  "kernelspec": {
   "display_name": "Python 3",
   "language": "python",
   "name": "python3"
  },
  "language_info": {
   "codemirror_mode": {
    "name": "ipython",
    "version": 3
   },
   "file_extension": ".py",
   "mimetype": "text/x-python",
   "name": "python",
   "nbconvert_exporter": "python",
   "pygments_lexer": "ipython3"
  }
 },
 "nbformat": 4,
 "nbformat_minor": 2
}
