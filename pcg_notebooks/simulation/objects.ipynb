{
 "cells": [
  {
   "cell_type": "markdown",
   "metadata": {},
   "source": [
    "# Objects\n",
    "\n",
    "The objects are models including basic and custom forms that can be spawned in the simulation."
   ]
  },
  {
   "cell_type": "code",
   "execution_count": null,
   "metadata": {},
   "outputs": [],
   "source": [
    "from pcg_gazebo.simulation import create_object"
   ]
  },
  {
   "cell_type": "code",
   "execution_count": null,
   "metadata": {},
   "outputs": [],
   "source": [
    "# If there is a Gazebo instance running, you can spawn the box into the simulation\n",
    "from pcg_gazebo.task_manager import Server\n",
    "# First create a simulation server\n",
    "server = Server()\n",
    "# Create a simulation manager named default\n",
    "server.create_simulation('default')\n",
    "simulation = server.get_simulation('default')\n",
    "# Run an instance of the empty.world scenario\n",
    "# This is equivalent to run\n",
    "#      roslaunch gazebo_ros empty_world.launch\n",
    "# with all default parameters\n",
    "simulation.create_gazebo_empty_world_task()\n",
    "# A task named 'gazebo' the added to the tasks list\n",
    "print(simulation.get_task_list())\n",
    "# But it is still not running\n",
    "print('Is Gazebo running: {}'.format(simulation.is_task_running('gazebo')))\n",
    "# Run Gazebo\n",
    "simulation.run_all_tasks()"
   ]
  },
  {
   "cell_type": "code",
   "execution_count": null,
   "metadata": {},
   "outputs": [],
   "source": [
    "from pcg_gazebo.generators import WorldGenerator\n",
    "import random\n",
    "# Create a Gazebo proxy\n",
    "gazebo_proxy = simulation.get_gazebo_proxy()\n",
    "\n",
    "# Use the generator to spawn the model to the Gazebo instance running at the moment\n",
    "generator = WorldGenerator(gazebo_proxy=gazebo_proxy)"
   ]
  },
  {
   "cell_type": "markdown",
   "metadata": {},
   "source": [
    "## Geometries"
   ]
  },
  {
   "cell_type": "markdown",
   "metadata": {},
   "source": [
    "### Box"
   ]
  },
  {
   "cell_type": "code",
   "execution_count": null,
   "metadata": {},
   "outputs": [],
   "source": [
    "box = create_object('box')\n",
    "# A box object comes initially with no inertial information and null size.\n",
    "print('Size:')\n",
    "print(box.size)\n",
    "print('Inertial:')\n",
    "print(box.inertial)"
   ]
  },
  {
   "cell_type": "code",
   "execution_count": null,
   "metadata": {},
   "outputs": [],
   "source": [
    "# When generating the SDF elements for the box, a few options can be used\n",
    "print(box.to_sdf('box'))"
   ]
  },
  {
   "cell_type": "code",
   "execution_count": null,
   "metadata": {},
   "outputs": [],
   "source": [
    "print(box.to_sdf('geometry'))"
   ]
  },
  {
   "cell_type": "code",
   "execution_count": null,
   "metadata": {},
   "outputs": [],
   "source": [
    "print(box.to_sdf('collision'))"
   ]
  },
  {
   "cell_type": "code",
   "execution_count": null,
   "metadata": {},
   "outputs": [],
   "source": [
    "print(box.to_sdf('visual'))"
   ]
  },
  {
   "cell_type": "code",
   "execution_count": null,
   "metadata": {},
   "outputs": [],
   "source": [
    "print(box.to_sdf('link'))"
   ]
  },
  {
   "cell_type": "code",
   "execution_count": null,
   "metadata": {},
   "outputs": [],
   "source": [
    "print(box.to_sdf('model'))"
   ]
  },
  {
   "cell_type": "code",
   "execution_count": null,
   "metadata": {},
   "outputs": [],
   "source": [
    "# To set the inertial, use the function add_inertial giving the mass of the box,\n",
    "# the moments of inertia will be computed from the box's dimensions\n",
    "box.size = [0.3, 0.6, 0.2]\n",
    "box.add_inertial(mass=20)\n",
    "print(box.inertial)"
   ]
  },
  {
   "cell_type": "code",
   "execution_count": null,
   "metadata": {},
   "outputs": [],
   "source": [
    "# The inertial information will be added to the SDF description in link and model modes\n",
    "print(box.to_sdf('link'))\n",
    "print(box.to_sdf('model'))"
   ]
  },
  {
   "cell_type": "code",
   "execution_count": null,
   "metadata": {},
   "outputs": [],
   "source": [
    "model_counter = 0\n",
    "for x in [-5, 0, 5]:\n",
    "    for y in [-5, 0, 5]:\n",
    "        box.visual.enable_property('material')\n",
    "        box.visual.set_xkcd_color()\n",
    "        generator.spawn_model(\n",
    "            model=box, \n",
    "            robot_namespace='box_{}'.format(model_counter),\n",
    "            pos=[x, y, 10])\n",
    "        model_counter += 1\n"
   ]
  },
  {
   "cell_type": "code",
   "execution_count": null,
   "metadata": {},
   "outputs": [],
   "source": [
    "# Using the Gazebo proxy created by the generator's constructor\n",
    "# it is possible to see that all models were created\n",
    "print(generator.gazebo_proxy.get_model_names())"
   ]
  },
  {
   "cell_type": "code",
   "execution_count": null,
   "metadata": {},
   "outputs": [],
   "source": [
    "# End the simulation by killing the Gazebo task\n",
    "# simulation.kill_task('gazebo')"
   ]
  },
  {
   "cell_type": "markdown",
   "metadata": {},
   "source": [
    "### Sphere"
   ]
  },
  {
   "cell_type": "code",
   "execution_count": null,
   "metadata": {},
   "outputs": [],
   "source": [
    "sphere = create_object('sphere')\n",
    "# A sphere object comes initially with no inertial information and radius equal to 1.\n",
    "print('Radius:')\n",
    "print(sphere.radius)\n",
    "print('Inertial:')\n",
    "print(sphere.inertial)"
   ]
  },
  {
   "cell_type": "code",
   "execution_count": null,
   "metadata": {},
   "outputs": [],
   "source": [
    "# When generating the SDF elements for the box, a few options can be used\n",
    "print(sphere.to_sdf('sphere'))"
   ]
  },
  {
   "cell_type": "code",
   "execution_count": null,
   "metadata": {},
   "outputs": [],
   "source": [
    "print(sphere.to_sdf('geometry'))"
   ]
  },
  {
   "cell_type": "code",
   "execution_count": null,
   "metadata": {},
   "outputs": [],
   "source": [
    "print(sphere.to_sdf('collision'))"
   ]
  },
  {
   "cell_type": "code",
   "execution_count": null,
   "metadata": {},
   "outputs": [],
   "source": [
    "print(sphere.to_sdf('visual'))"
   ]
  },
  {
   "cell_type": "code",
   "execution_count": null,
   "metadata": {},
   "outputs": [],
   "source": [
    "print(sphere.to_sdf('link'))"
   ]
  },
  {
   "cell_type": "code",
   "execution_count": null,
   "metadata": {},
   "outputs": [],
   "source": [
    "print(sphere.to_sdf('model'))"
   ]
  },
  {
   "cell_type": "code",
   "execution_count": null,
   "metadata": {},
   "outputs": [],
   "source": [
    "# To set the inertial, use the function add_inertial giving the mass of the sphere,\n",
    "# the moments of inertia will be computed from the sphere's dimensions\n",
    "sphere.radius = 0.3\n",
    "sphere.add_inertial(20)\n",
    "print(sphere.inertial)"
   ]
  },
  {
   "cell_type": "code",
   "execution_count": null,
   "metadata": {},
   "outputs": [],
   "source": [
    "# The inertial information will be added to the SDF description in link and model modes\n",
    "print(sphere.to_sdf('link'))\n",
    "print(sphere.to_sdf('model'))"
   ]
  },
  {
   "cell_type": "code",
   "execution_count": null,
   "metadata": {},
   "outputs": [],
   "source": [
    "# Run Gazebo again, if not already running\n",
    "simulation.run_task('gazebo')\n"
   ]
  },
  {
   "cell_type": "code",
   "execution_count": null,
   "metadata": {},
   "outputs": [],
   "source": [
    "# Spawn sphere of different values for radius\n",
    "model_counter = 0\n",
    "for _ in range(3):\n",
    "    for _ in range(3):\n",
    "        sphere.radius = random.random() * 2\n",
    "        sphere.add_inertial(random.random() * 30)\n",
    "        sphere.visual.enable_property('material')\n",
    "        sphere.visual.set_xkcd_color()\n",
    "        generator.spawn_model(\n",
    "            model=sphere, \n",
    "            robot_namespace='sphere_{}'.format(model_counter),\n",
    "            pos=[(random.random() - 0.5) * 10, (random.random() - 0.5) * 10, (random.random() - 0.5) * 5 + 3])\n",
    "        model_counter += 1"
   ]
  },
  {
   "cell_type": "code",
   "execution_count": null,
   "metadata": {},
   "outputs": [],
   "source": [
    "# End the simulation by killing the Gazebo task\n",
    "# simulation.kill_all_tasks()"
   ]
  },
  {
   "cell_type": "markdown",
   "metadata": {},
   "source": [
    "### Cylinder"
   ]
  },
  {
   "cell_type": "code",
   "execution_count": null,
   "metadata": {},
   "outputs": [],
   "source": [
    "cylinder = create_object('cylinder')\n",
    "# A sphere object comes initially with no inertial information, and length and radius equal to 1.\n",
    "print('Radius:')\n",
    "print(cylinder.radius)\n",
    "print('Length:')\n",
    "print(cylinder.length)"
   ]
  },
  {
   "cell_type": "code",
   "execution_count": null,
   "metadata": {},
   "outputs": [],
   "source": [
    "# When generating the SDF elements for the cylinder, a few options can be used\n",
    "print(cylinder.to_sdf('cylinder'))"
   ]
  },
  {
   "cell_type": "code",
   "execution_count": null,
   "metadata": {},
   "outputs": [],
   "source": [
    "print(cylinder.to_sdf('geometry'))"
   ]
  },
  {
   "cell_type": "code",
   "execution_count": null,
   "metadata": {},
   "outputs": [],
   "source": [
    "print(cylinder.to_sdf('collision'))"
   ]
  },
  {
   "cell_type": "code",
   "execution_count": null,
   "metadata": {},
   "outputs": [],
   "source": [
    "print(cylinder.to_sdf('visual'))"
   ]
  },
  {
   "cell_type": "code",
   "execution_count": null,
   "metadata": {},
   "outputs": [],
   "source": [
    "print(cylinder.to_sdf('link'))"
   ]
  },
  {
   "cell_type": "code",
   "execution_count": null,
   "metadata": {},
   "outputs": [],
   "source": [
    "print(cylinder.to_sdf('model'))"
   ]
  },
  {
   "cell_type": "code",
   "execution_count": null,
   "metadata": {},
   "outputs": [],
   "source": [
    "# To set the inertial, use the function add_inertial giving the mass of the cylinder,\n",
    "# the moments of inertia will be computed from the cylinder's dimensions\n",
    "cylinder.radius = 0.3\n",
    "cylinder.length = 0.8\n",
    "cylinder.add_inertial(20)\n",
    "print(cylinder.inertial)"
   ]
  },
  {
   "cell_type": "code",
   "execution_count": null,
   "metadata": {},
   "outputs": [],
   "source": [
    "# The inertial information will be added to the SDF description in link and model modes\n",
    "print(cylinder.to_sdf('link'))\n",
    "print(cylinder.to_sdf('model'))"
   ]
  },
  {
   "cell_type": "code",
   "execution_count": null,
   "metadata": {},
   "outputs": [],
   "source": [
    "# Run Gazebo again, if not already running\n",
    "simulation.run_task('gazebo')\n"
   ]
  },
  {
   "cell_type": "code",
   "execution_count": null,
   "metadata": {},
   "outputs": [],
   "source": [
    "# Spawn sphere of different values for radius\n",
    "model_counter = 0\n",
    "for _ in range(3):\n",
    "    for _ in range(3):\n",
    "        cylinder.length = random.random() * 3\n",
    "        cylinder.radius = random.random() * 0.5\n",
    "        cylinder.add_inertial(random.random() * 30)\n",
    "        cylinder.visual.enable_property('material')\n",
    "        cylinder.visual.set_xkcd_color()\n",
    "        generator.spawn_model(\n",
    "            model=cylinder, \n",
    "            robot_namespace='cylinder_{}'.format(model_counter),\n",
    "            pos=[(random.random() - 0.5) * 10, (random.random() - 0.5) * 10, (random.random() - 0.5) * 5 + 10])\n",
    "        model_counter += 1"
   ]
  },
  {
   "cell_type": "markdown",
   "metadata": {},
   "source": [
    "### Plane"
   ]
  },
  {
   "cell_type": "code",
   "execution_count": null,
   "metadata": {},
   "outputs": [],
   "source": [
    "plane = create_object('plane')\n",
    "# A plane per default has normal [0, 0, 1] and size = [1, 1]\n",
    "print('Normal:')\n",
    "print(plane.normal)\n",
    "print('Size:')\n",
    "print(plane.size)"
   ]
  },
  {
   "cell_type": "code",
   "execution_count": null,
   "metadata": {},
   "outputs": [],
   "source": [
    "# When generating the SDF elements for the plane, a few options can be used\n",
    "print(plane.to_sdf('plane'))"
   ]
  },
  {
   "cell_type": "code",
   "execution_count": null,
   "metadata": {},
   "outputs": [],
   "source": [
    "print(plane.to_sdf('geometry'))"
   ]
  },
  {
   "cell_type": "code",
   "execution_count": null,
   "metadata": {},
   "outputs": [],
   "source": [
    "print(plane.to_sdf('visual'))"
   ]
  },
  {
   "cell_type": "code",
   "execution_count": null,
   "metadata": {},
   "outputs": [],
   "source": [
    "print(plane.to_sdf('collision'))"
   ]
  },
  {
   "cell_type": "code",
   "execution_count": null,
   "metadata": {},
   "outputs": [],
   "source": [
    "print(plane.to_sdf('link'))"
   ]
  },
  {
   "cell_type": "code",
   "execution_count": null,
   "metadata": {},
   "outputs": [],
   "source": [
    "print(plane.to_sdf('model'))"
   ]
  },
  {
   "cell_type": "code",
   "execution_count": null,
   "metadata": {},
   "outputs": [],
   "source": [
    "# Run Gazebo again, if not already running\n",
    "simulation.run_task('gazebo')"
   ]
  },
  {
   "cell_type": "code",
   "execution_count": null,
   "metadata": {},
   "outputs": [],
   "source": [
    "# Spawning the plane\n",
    "# When there are other models in the simulation, \n",
    "# the spawning of a new plane with [0, 0, 1] and a plane as \n",
    "# collision geometry  leads to \n",
    "# the new plane becoming the ground plane\n",
    "# To set the collision geometry, use\n",
    "#    plane.generate_collision = True\n",
    "plane = create_object('plane')\n",
    "plane.size = [random.random() * 5, random.random() * 5]\n",
    "p = random.random()\n",
    "plane.normal = [0, 0, 1]\n",
    "plane.visual.enable_property('material')\n",
    "plane.visual.set_xkcd_color()\n",
    "generator.spawn_model(\n",
    "    model=plane, \n",
    "    robot_namespace='new_plane',\n",
    "    pos=[(random.random() - 0.5) * 10, (random.random() - 0.5) * 10, (random.random() - 0.5) * 2 + 5])\n"
   ]
  },
  {
   "cell_type": "markdown",
   "metadata": {},
   "source": [
    "The output should look like this\n",
    "\n",
    "![generating objects](images/generating_objects.png)"
   ]
  }
 ],
 "metadata": {
  "kernelspec": {
   "display_name": "Python 3",
   "language": "python",
   "name": "python3"
  },
  "language_info": {
   "codemirror_mode": {
    "name": "ipython",
    "version": 3
   },
   "file_extension": ".py",
   "mimetype": "text/x-python",
   "name": "python",
   "nbconvert_exporter": "python",
   "pygments_lexer": "ipython3"
  }
 },
 "nbformat": 4,
 "nbformat_minor": 2
}
