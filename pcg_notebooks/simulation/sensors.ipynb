{
 "cells": [
  {
   "cell_type": "markdown",
   "metadata": {},
   "source": [
    "# Sensors"
   ]
  },
  {
   "cell_type": "code",
   "execution_count": null,
   "metadata": {},
   "outputs": [],
   "source": [
    "from pcg_gazebo.simulation import create_object, SimulationModel\n",
    "from pcg_gazebo.task_manager import get_rostopic_list"
   ]
  },
  {
   "cell_type": "code",
   "execution_count": null,
   "metadata": {},
   "outputs": [],
   "source": [
    "# If there is a Gazebo instance running, you can spawn the box \n",
    "# into the simulation\n",
    "from pcg_gazebo.task_manager import Server\n",
    "# First create a simulation server\n",
    "server = Server()\n",
    "# Create a simulation manager named default\n",
    "server.create_simulation('default', ros_port=11311, gazebo_port=11345)\n",
    "simulation = server.get_simulation('default')\n",
    "# Run an instance of the empty.world scenario\n",
    "# This is equivalent to run\n",
    "#      roslaunch gazebo_ros empty_world.launch\n",
    "# with all default parameters\n",
    "simulation.create_gazebo_empty_world_task()\n",
    "simulation.create_rqt_task()\n",
    "\n",
    "# A task named 'gazebo' the added to the tasks list\n",
    "print(simulation.get_task_list())\n",
    "# But it is still not running\n",
    "print('Is Gazebo running: {}'.format(\n",
    "    simulation.is_task_running('gazebo')))\n",
    "# Run Gazebo\n",
    "simulation.run_all_tasks()"
   ]
  },
  {
   "cell_type": "code",
   "execution_count": null,
   "metadata": {},
   "outputs": [],
   "source": [
    "from pcg_gazebo.generators import WorldGenerator\n",
    "import random\n",
    "# Create a Gazebo proxy\n",
    "gazebo_proxy = simulation.get_gazebo_proxy()\n",
    "\n",
    "# Use the generator to spawn the model to the Gazebo instance running at the moment\n",
    "generator = WorldGenerator(gazebo_proxy=gazebo_proxy)\n",
    "print('Is Gazebo running: {}'.format(simulation.is_task_running('gazebo')))"
   ]
  },
  {
   "cell_type": "markdown",
   "metadata": {},
   "source": [
    "## Sensors\n",
    "\n",
    "### Standalone IMU sensor"
   ]
  },
  {
   "cell_type": "code",
   "execution_count": null,
   "metadata": {},
   "outputs": [],
   "source": [
    "imu_model = SimulationModel(name='default_imu')\n",
    "\n",
    "# Default IMU sensor\n",
    "imu_model.add_imu_sensor(\n",
    "    add_visual=True, \n",
    "    add_collision=True, \n",
    "    visualize=True,\n",
    "    mass=0.01,\n",
    "    size=[0.1, 0.1, 0.1],\n",
    "    topic='/imu',\n",
    "    link_shape='cuboid',\n",
    "    link_name='imu_link')\n",
    "\n",
    "print(imu_model.to_sdf())\n",
    "\n",
    "# Spawn IMU standalone model\n",
    "generator.spawn_model(\n",
    "    model=imu_model, \n",
    "    robot_namespace='default_imu',\n",
    "    pos=[0, 0, 0.05])"
   ]
  },
  {
   "cell_type": "code",
   "execution_count": null,
   "metadata": {},
   "outputs": [],
   "source": [
    "print('List of ROS topics:')\n",
    "for topic in simulation.get_rostopic_list():\n",
    "    print(' - ' + topic)"
   ]
  },
  {
   "cell_type": "markdown",
   "metadata": {},
   "source": [
    "### Standalone ray sensor"
   ]
  },
  {
   "cell_type": "code",
   "execution_count": null,
   "metadata": {},
   "outputs": [],
   "source": [
    "ray_model = SimulationModel(name='default_ray')\n",
    "\n",
    "# Default ray sensor\n",
    "ray_model.add_ray_sensor(\n",
    "    add_visual=True, \n",
    "    add_collision=True, \n",
    "    add_ros_plugin=False,\n",
    "    mass=0.01,\n",
    "    radius=0.05,\n",
    "    link_shape='spherical',    \n",
    "    link_name='ray_link')\n",
    "\n",
    "print(ray_model.to_sdf())\n",
    "\n",
    "# Spawn ray sensor standalone model\n",
    "generator.spawn_model(\n",
    "    model=ray_model, \n",
    "    robot_namespace='default_ray',\n",
    "    pos=[0, 0.3, 0.05])"
   ]
  },
  {
   "cell_type": "code",
   "execution_count": null,
   "metadata": {},
   "outputs": [],
   "source": [
    "print('List of ROS topics:')\n",
    "for topic in simulation.get_rostopic_list():\n",
    "    print(' - ' + topic)"
   ]
  },
  {
   "cell_type": "markdown",
   "metadata": {},
   "source": [
    "### Standalone contact sensor"
   ]
  },
  {
   "cell_type": "code",
   "execution_count": null,
   "metadata": {},
   "outputs": [],
   "source": [
    "contact_sensor = SimulationModel(name='contact_standalone')\n",
    "\n",
    "contact_sensor.add_contact_sensor(\n",
    "    add_visual=True, \n",
    "    add_collision=True, \n",
    "    add_ros_plugin=True,\n",
    "    mass=0.01,\n",
    "    radius=0.05,\n",
    "    length=0.1,\n",
    "    link_shape='cylindrical',\n",
    "    link_name='contact_link')\n",
    "\n",
    "print(contact_sensor.to_sdf())\n",
    "\n",
    "# Spawn ray sensor standalone model\n",
    "generator.spawn_model(\n",
    "    model=contact_sensor, \n",
    "    robot_namespace='contact_standalone',\n",
    "    pos=[0, 0.6, 0.05])"
   ]
  },
  {
   "cell_type": "markdown",
   "metadata": {},
   "source": [
    "### Standalone camera\n"
   ]
  },
  {
   "cell_type": "code",
   "execution_count": null,
   "metadata": {},
   "outputs": [],
   "source": [
    "camera_sensor = SimulationModel(name='camera_standalone')\n",
    "camera_sensor.static = True\n",
    "\n",
    "camera_sensor.add_camera_sensor(\n",
    "    add_visual=True, \n",
    "    add_collision=True, \n",
    "    add_ros_plugin=True,\n",
    "    visualize=True,\n",
    "    mass=0.01,\n",
    "    size=[0.1, 0.1, 0.1],\n",
    "    link_shape='cuboid',\n",
    "    link_name='camera_link')\n",
    "\n",
    "print(camera_sensor.to_sdf())\n",
    "\n",
    "# Spawn camera standalone model\n",
    "generator.spawn_model(\n",
    "    model=camera_sensor, \n",
    "    robot_namespace='camera_standalone',\n",
    "    pos=[0, 0.9, 0.5])"
   ]
  },
  {
   "cell_type": "code",
   "execution_count": null,
   "metadata": {},
   "outputs": [],
   "source": [
    "print('List of ROS topics:')\n",
    "for topic in simulation.get_rostopic_list():\n",
    "    print(' - ' + topic)"
   ]
  },
  {
   "cell_type": "code",
   "execution_count": null,
   "metadata": {},
   "outputs": [],
   "source": [
    "# End the simulation by killing the Gazebo task\n",
    "simulation.kill_all_tasks()"
   ]
  },
  {
   "cell_type": "markdown",
   "metadata": {},
   "source": [
    "![sensors](images/sensors.png)"
   ]
  },
  {
   "cell_type": "code",
   "execution_count": null,
   "metadata": {},
   "outputs": [],
   "source": []
  }
 ],
 "metadata": {
  "kernelspec": {
   "display_name": "Python 3",
   "language": "python",
   "name": "python3"
  },
  "language_info": {
   "codemirror_mode": {
    "name": "ipython",
    "version": 3
   },
   "file_extension": ".py",
   "mimetype": "text/x-python",
   "name": "python",
   "nbconvert_exporter": "python",
   "pygments_lexer": "ipython3"
  }
 },
 "nbformat": 4,
 "nbformat_minor": 2
}
