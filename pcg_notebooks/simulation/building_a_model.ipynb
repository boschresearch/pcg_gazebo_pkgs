{
 "cells": [
  {
   "cell_type": "markdown",
   "metadata": {},
   "source": [
    "# Models"
   ]
  },
  {
   "cell_type": "code",
   "execution_count": null,
   "metadata": {},
   "outputs": [],
   "source": [
    "from pcg_gazebo.simulation import create_object, SimulationModel"
   ]
  },
  {
   "cell_type": "code",
   "execution_count": null,
   "metadata": {},
   "outputs": [],
   "source": [
    "# If there is a Gazebo instance running, you can spawn the box into the simulation\n",
    "from pcg_gazebo.task_manager import Server\n",
    "# First create a simulation server\n",
    "server = Server()\n",
    "# Create a simulation manager named default\n",
    "server.create_simulation('default')\n",
    "simulation = server.get_simulation('default')\n",
    "# Run an instance of the empty.world scenario\n",
    "# This is equivalent to run\n",
    "#      roslaunch gazebo_ros empty_world.launch\n",
    "# with all default parameters\n",
    "simulation.create_gazebo_empty_world_task()\n",
    "# A task named 'gazebo' the added to the tasks list\n",
    "print(simulation.get_task_list())\n",
    "# But it is still not running\n",
    "print('Is Gazebo running: {}'.format(simulation.is_task_running('gazebo')))\n",
    "# Run Gazebo\n",
    "simulation.run_all_tasks()"
   ]
  },
  {
   "cell_type": "code",
   "execution_count": null,
   "metadata": {},
   "outputs": [],
   "source": [
    "from pcg_gazebo.generators import WorldGenerator\n",
    "import random\n",
    "# Create a Gazebo proxy\n",
    "gazebo_proxy = simulation.get_gazebo_proxy()\n",
    "\n",
    "# Use the generator to spawn the model to the Gazebo instance running at the moment\n",
    "generator = WorldGenerator(gazebo_proxy=gazebo_proxy)"
   ]
  },
  {
   "cell_type": "markdown",
   "metadata": {},
   "source": [
    "## Mobile base tutorial\n",
    "\n",
    "Recreating the [Gazebo tutorial for a mobile base](http://gazebosim.org/tutorials/?tut=attach_gripper#MobileBase)"
   ]
  },
  {
   "cell_type": "code",
   "execution_count": null,
   "metadata": {},
   "outputs": [],
   "source": [
    "# Creating the main body of the chassis\n",
    "chassis = create_object('box')\n",
    "chassis.size = [2, 1, 0.3]\n",
    "chassis.add_inertial(20)\n",
    "chassis.visual.enable_property('material')\n",
    "chassis.visual.set_xkcd_color()\n",
    "\n",
    "print(chassis.to_sdf('link'))"
   ]
  },
  {
   "cell_type": "code",
   "execution_count": null,
   "metadata": {},
   "outputs": [],
   "source": [
    "# Creating the caster wheel\n",
    "caster_wheel = create_object('sphere')\n",
    "caster_wheel.radius = 0.125\n",
    "caster_wheel.add_inertial(1)\n",
    "caster_wheel.visual.enable_property('material')\n",
    "caster_wheel.visual.set_xkcd_color()\n",
    "\n",
    "# Setting friction parameters to zero\n",
    "caster_wheel.collision.enable_property('friction')\n",
    "caster_wheel.collision.set_ode_friction_params(\n",
    "    mu=0.0,\n",
    "    mu2=0.0,\n",
    "    slip1=0, \n",
    "    slip2=0,\n",
    "    fdir1=[0, 0, 0]\n",
    ")\n",
    "\n",
    "caster_wheel.collision.set_bullet_friction_params(\n",
    "    friction=0.0, \n",
    "    friction2=0.0, \n",
    "    fdir1=[0, 0, 0], \n",
    "    rolling_friction=1\n",
    ")\n",
    "\n",
    "print(caster_wheel.to_sdf('link'))"
   ]
  },
  {
   "cell_type": "code",
   "execution_count": null,
   "metadata": {},
   "outputs": [],
   "source": [
    "right_wheel = create_object('cylinder')\n",
    "right_wheel.pose = [0.8, -0.5 - 0.025, -0.125, 0, 1.5707, 1.5707]\n",
    "right_wheel.radius = 0.125\n",
    "right_wheel.length = 0.05\n",
    "right_wheel.add_inertial(1)\n",
    "right_wheel.visual.enable_property('material')\n",
    "right_wheel.visual.set_xkcd_color()\n",
    "\n",
    "left_wheel = create_object('cylinder')\n",
    "left_wheel.pose = [0.8, 0.5 + 0.025, -0.125, 0, 1.5707, 1.5707]\n",
    "left_wheel.radius = 0.125\n",
    "left_wheel.length = 0.05\n",
    "left_wheel.add_inertial(1)\n",
    "left_wheel.visual.enable_property('material')\n",
    "left_wheel.visual.set_xkcd_color()\n",
    "\n",
    "print(right_wheel.to_sdf('link'))"
   ]
  },
  {
   "cell_type": "code",
   "execution_count": null,
   "metadata": {},
   "outputs": [],
   "source": [
    "# Assembling the robot mobile base\n",
    "mobile_base = SimulationModel('mobile_base')\n",
    "\n",
    "# Adding chassis\n",
    "mobile_base.add_link('chassis', chassis)\n",
    "\n",
    "# Adding caster wheel\n",
    "caster_wheel.pose = [-0.8, 0, -0.125, 0, 0, 0]\n",
    "mobile_base.add_link('caster_wheel', caster_wheel)\n",
    "mobile_base.add_joint('caster_wheel_joint', parent='chassis', child='caster_wheel', joint_type='fixed')\n",
    "\n",
    "# Adding left wheel\n",
    "mobile_base.add_link('left_wheel', left_wheel)\n",
    "mobile_base.add_joint('left_wheel_joint', parent='chassis', child='left_wheel', joint_type='revolute')\n",
    "\n",
    "# Adding right wheel\n",
    "mobile_base.add_link('right_wheel', right_wheel)\n",
    "mobile_base.add_joint('right_wheel_joint', parent='chassis', child='right_wheel', joint_type='revolute')\n",
    "\n",
    "print(mobile_base.to_sdf())"
   ]
  },
  {
   "cell_type": "code",
   "execution_count": null,
   "metadata": {},
   "outputs": [],
   "source": [
    "print(mobile_base.to_urdf())"
   ]
  },
  {
   "cell_type": "code",
   "execution_count": null,
   "metadata": {},
   "outputs": [],
   "source": [
    "# Spawn model\n",
    "generator.spawn_model(\n",
    "    model=mobile_base, \n",
    "    robot_namespace='mobile_base',\n",
    "    pos=[0, 0, 0.5])"
   ]
  },
  {
   "cell_type": "markdown",
   "metadata": {},
   "source": [
    "![mobile robot](images/mobile_robot.png)"
   ]
  },
  {
   "cell_type": "code",
   "execution_count": null,
   "metadata": {},
   "outputs": [],
   "source": []
  }
 ],
 "metadata": {
  "kernelspec": {
   "display_name": "Python 3",
   "language": "python",
   "name": "python3"
  },
  "language_info": {
   "codemirror_mode": {
    "name": "ipython",
    "version": 3
   },
   "file_extension": ".py",
   "mimetype": "text/x-python",
   "name": "python",
   "nbconvert_exporter": "python",
   "pygments_lexer": "ipython3"
  }
 },
 "nbformat": 4,
 "nbformat_minor": 2
}
