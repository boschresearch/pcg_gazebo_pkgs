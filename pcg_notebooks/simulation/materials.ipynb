{
 "cells": [
  {
   "cell_type": "markdown",
   "metadata": {},
   "source": [
    "# Visual properties"
   ]
  },
  {
   "cell_type": "code",
   "execution_count": null,
   "metadata": {},
   "outputs": [],
   "source": [
    "from pcg_gazebo.simulation import create_object\n",
    "from pcg_gazebo.generators import WorldGenerator\n",
    "from time import sleep\n",
    "import random"
   ]
  },
  {
   "cell_type": "code",
   "execution_count": null,
   "metadata": {},
   "outputs": [],
   "source": [
    "# If there is a Gazebo instance running, you can spawn the box into the simulation\n",
    "from pcg_gazebo.task_manager import Server\n",
    "# First create a simulation server\n",
    "server = Server()\n"
   ]
  },
  {
   "cell_type": "markdown",
   "metadata": {},
   "source": [
    "## Transparency"
   ]
  },
  {
   "cell_type": "code",
   "execution_count": null,
   "metadata": {},
   "outputs": [],
   "source": [
    "obj = create_object('box')\n",
    "obj.size = [1, 1, 1]\n",
    "obj.add_inertial(30)"
   ]
  },
  {
   "cell_type": "code",
   "execution_count": null,
   "metadata": {},
   "outputs": [],
   "source": [
    "# Print the initial state of a box in the model option\n",
    "print(obj.to_sdf('model'))"
   ]
  },
  {
   "cell_type": "code",
   "execution_count": null,
   "metadata": {},
   "outputs": [],
   "source": [
    "obj.visual.transparency = 0.8\n",
    "print(obj.to_sdf('model'))"
   ]
  },
  {
   "cell_type": "code",
   "execution_count": null,
   "metadata": {},
   "outputs": [],
   "source": [
    "# Create a simulation manager named default\n",
    "server.create_simulation('transparency')\n",
    "simulation = server.get_simulation('transparency')\n",
    "# Run an instance of the empty.world scenario\n",
    "# This is equivalent to run\n",
    "#      roslaunch gazebo_ros empty_world.launch\n",
    "# with all default parameters\n",
    "simulation.create_gazebo_empty_world_task()\n",
    "# A task named 'gazebo' the added to the tasks list\n",
    "print(simulation.get_task_list())\n",
    "# But it is still not running\n",
    "print('Is Gazebo running: {}'.format(simulation.is_task_running('gazebo')))\n",
    "# Run Gazebo\n",
    "simulation.run_all_tasks()\n",
    "\n",
    "# Create a Gazebo proxy\n",
    "gazebo_proxy = simulation.get_gazebo_proxy()\n",
    "\n",
    "# Use the generator to spawn the model to the Gazebo instance running at the moment\n",
    "generator = WorldGenerator(gazebo_proxy=gazebo_proxy)"
   ]
  },
  {
   "cell_type": "code",
   "execution_count": null,
   "metadata": {},
   "outputs": [],
   "source": [
    "t = [0.1, 0.3, 0.5, 0.7, 1.0] \n",
    "for i in range(len(t)):\n",
    "    obj.visual.transparency = t[i]\n",
    "    \n",
    "    generator.spawn_model(\n",
    "        model=obj, \n",
    "        robot_namespace='box_transparency_{}'.format(t[i]),\n",
    "        pos=[0, i * 1.5, 2])"
   ]
  },
  {
   "cell_type": "code",
   "execution_count": null,
   "metadata": {},
   "outputs": [],
   "source": [
    "# End the simulation by killing the Gazebo task\n",
    "sleep(5)\n",
    "simulation.kill_all_tasks()"
   ]
  },
  {
   "cell_type": "markdown",
   "metadata": {},
   "source": [
    "![transparency](images/transparency.png)"
   ]
  },
  {
   "cell_type": "markdown",
   "metadata": {},
   "source": [
    "## Gazebo materials"
   ]
  },
  {
   "cell_type": "code",
   "execution_count": null,
   "metadata": {},
   "outputs": [],
   "source": [
    "from pcg_gazebo.simulation.properties import Material\n",
    "# Find and retrieve all the default Gazebo materials \n",
    "print(Material._GAZEBO_MATERIALS)"
   ]
  },
  {
   "cell_type": "code",
   "execution_count": null,
   "metadata": {},
   "outputs": [],
   "source": [
    "print(Material.get_gazebo_material_as_sdf('Gazebo/PurpleGlow'))"
   ]
  },
  {
   "cell_type": "code",
   "execution_count": null,
   "metadata": {},
   "outputs": [],
   "source": [
    "# Create a simulation manager named default\n",
    "server.create_simulation('gazebo_materials')\n",
    "simulation = server.get_simulation('gazebo_materials')\n",
    "# Run an instance of the empty.world scenario\n",
    "# This is equivalent to run\n",
    "#      roslaunch gazebo_ros empty_world.launch\n",
    "# with all default parameters\n",
    "simulation.create_gazebo_empty_world_task()\n",
    "# A task named 'gazebo' the added to the tasks list\n",
    "print(simulation.get_task_list())\n",
    "# But it is still not running\n",
    "print('Is Gazebo running: {}'.format(simulation.is_task_running('gazebo')))\n",
    "# Run Gazebo\n",
    "simulation.run_all_tasks()\n",
    "\n",
    "# Create a Gazebo proxy\n",
    "gazebo_proxy = simulation.get_gazebo_proxy()\n",
    "\n",
    "# Use the generator to spawn the model to the Gazebo instance running at the moment\n",
    "generator = WorldGenerator(gazebo_proxy=gazebo_proxy)"
   ]
  },
  {
   "cell_type": "code",
   "execution_count": null,
   "metadata": {},
   "outputs": [],
   "source": [
    "box = create_object('box')\n",
    "box.size = [1, 1, 1]\n",
    "box.add_inertial(30)\n",
    "box.static = True\n",
    "box.visual.enable_property('material')\n",
    "\n",
    "sphere = create_object('sphere')\n",
    "sphere.radius = 0.5\n",
    "sphere.add_inertial(30)\n",
    "sphere.static = True\n",
    "sphere.visual.enable_property('material')\n",
    "\n",
    "for i in range(len(Material._GAZEBO_MATERIALS)):\n",
    "    box.visual.set_material_script(Material._GAZEBO_MATERIALS[i])\n",
    "    sphere.visual.set_material_script(Material._GAZEBO_MATERIALS[i])\n",
    "        \n",
    "    color_name = Material._GAZEBO_MATERIALS[i].split('/')[-1].lower()\n",
    "    \n",
    "    generator.spawn_model(\n",
    "        model=box, \n",
    "        robot_namespace='box_{}'.format(color_name),\n",
    "        pos=[0, i * 1.5, 0.5])\n",
    "    \n",
    "    generator.spawn_model(\n",
    "        model=sphere, \n",
    "        robot_namespace='sphere_{}'.format(color_name),\n",
    "        pos=[2.0, i * 1.5, 0.5])"
   ]
  },
  {
   "cell_type": "code",
   "execution_count": null,
   "metadata": {},
   "outputs": [],
   "source": [
    "# End the simulation by killing the Gazebo task\n",
    "sleep(5)\n",
    "simulation.kill_all_tasks()"
   ]
  },
  {
   "cell_type": "markdown",
   "metadata": {},
   "source": [
    "![gazebo materials](images/gazebo_materials.png)"
   ]
  },
  {
   "cell_type": "markdown",
   "metadata": {},
   "source": [
    "## XKCD color pallete"
   ]
  },
  {
   "cell_type": "code",
   "execution_count": null,
   "metadata": {},
   "outputs": [],
   "source": [
    "# Retrieve all XKCD pallete colors\n",
    "print(Material.get_xkcd_colors_list())"
   ]
  },
  {
   "cell_type": "code",
   "execution_count": null,
   "metadata": {},
   "outputs": [],
   "source": [
    "# Create a simulation manager named default\n",
    "server.create_simulation('xkcd')\n",
    "simulation = server.get_simulation('xkcd')\n",
    "# Run an instance of the empty.world scenario\n",
    "# This is equivalent to run\n",
    "#      roslaunch gazebo_ros empty_world.launch\n",
    "# with all default parameters\n",
    "simulation.create_gazebo_empty_world_task()\n",
    "# A task named 'gazebo' the added to the tasks list\n",
    "print(simulation.get_task_list())\n",
    "# But it is still not running\n",
    "print('Is Gazebo running: {}'.format(simulation.is_task_running('gazebo')))\n",
    "# Run Gazebo\n",
    "simulation.run_all_tasks()\n",
    "\n",
    "# Create a Gazebo proxy\n",
    "gazebo_proxy = simulation.get_gazebo_proxy()\n",
    "\n",
    "# Use the generator to spawn the model to the Gazebo instance running at the moment\n",
    "generator = WorldGenerator(gazebo_proxy=gazebo_proxy)"
   ]
  },
  {
   "cell_type": "code",
   "execution_count": null,
   "metadata": {},
   "outputs": [],
   "source": [
    "box = create_object('box')\n",
    "box.size = [1, 1, 1]\n",
    "box.add_inertial(30)\n",
    "box.static = True\n",
    "box.visual.enable_property('material')\n",
    "\n",
    "sphere = create_object('sphere')\n",
    "sphere.radius = 0.5\n",
    "sphere.add_inertial(30)\n",
    "sphere.static = True\n",
    "sphere.visual.enable_property('material')\n",
    "\n",
    "xkcd_colors = Material.get_xkcd_colors_list()\n",
    "for i, tag in zip(range(len(xkcd_colors)), xkcd_colors.keys()):\n",
    "    if i > 50:\n",
    "        break\n",
    "    # By omiting the name of the color, the material \n",
    "    # instance will generate a random color\n",
    "    box.visual.set_xkcd_color(tag)\n",
    "    sphere.visual.set_xkcd_color(tag)\n",
    "            \n",
    "    generator.spawn_model(\n",
    "        model=box, \n",
    "        robot_namespace='box_{}'.format(tag),\n",
    "        pos=[0, i * 1.5, 0.5])\n",
    "    \n",
    "    generator.spawn_model(\n",
    "        model=sphere, \n",
    "        robot_namespace='sphere_{}'.format(tag),\n",
    "        pos=[2.0, i * 1.5, 0.5])"
   ]
  },
  {
   "cell_type": "code",
   "execution_count": null,
   "metadata": {},
   "outputs": [],
   "source": [
    "# End the simulation by killing the Gazebo task\n",
    "sleep(5)\n",
    "simulation.kill_all_tasks()"
   ]
  },
  {
   "cell_type": "markdown",
   "metadata": {},
   "source": [
    "![xkcd materials](images/xkcd_materials.png)"
   ]
  }
 ],
 "metadata": {
  "kernelspec": {
   "display_name": "Python 3",
   "language": "python",
   "name": "python3"
  },
  "language_info": {
   "codemirror_mode": {
    "name": "ipython",
    "version": 3
   },
   "file_extension": ".py",
   "mimetype": "text/x-python",
   "name": "python",
   "nbconvert_exporter": "python",
   "pygments_lexer": "ipython3"
  }
 },
 "nbformat": 4,
 "nbformat_minor": 2
}
