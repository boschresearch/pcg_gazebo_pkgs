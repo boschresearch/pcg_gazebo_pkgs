{
 "cells": [
  {
   "cell_type": "markdown",
   "metadata": {},
   "source": [
    "## Surface and collision properties\n",
    "\n",
    "The simulation objects can include collision properties such as friction, bounce and contact parameters set to an individual link."
   ]
  },
  {
   "cell_type": "code",
   "execution_count": null,
   "metadata": {},
   "outputs": [],
   "source": [
    "from pcg_gazebo.simulation import create_object"
   ]
  },
  {
   "cell_type": "code",
   "execution_count": null,
   "metadata": {},
   "outputs": [],
   "source": [
    "# If there is a Gazebo instance running, you can spawn the box into the simulation\n",
    "from pcg_gazebo.task_manager import Server\n",
    "# First create a simulation server\n",
    "server = Server()\n",
    "# Create a simulation manager named default\n",
    "server.create_simulation('friction')\n",
    "simulation = server.get_simulation('friction')\n",
    "# Run an instance of the empty.world scenario\n",
    "# This is equivalent to run\n",
    "#      roslaunch gazebo_ros empty_world.launch\n",
    "# with all default parameters\n",
    "simulation.create_gazebo_empty_world_task()\n",
    "# A task named 'gazebo' the added to the tasks list\n",
    "print(simulation.get_task_list())\n",
    "# But it is still not running\n",
    "print('Is Gazebo running: {}'.format(simulation.is_task_running('gazebo')))\n",
    "# Run Gazebo\n",
    "simulation.run_all_tasks()"
   ]
  },
  {
   "cell_type": "code",
   "execution_count": null,
   "metadata": {},
   "outputs": [],
   "source": [
    "from pcg_gazebo.generators import WorldGenerator\n",
    "import random\n",
    "# Create a Gazebo proxy\n",
    "gazebo_proxy = simulation.get_gazebo_proxy()\n",
    "\n",
    "# Use the generator to spawn the model to the Gazebo instance running at the moment\n",
    "generator = WorldGenerator(gazebo_proxy=gazebo_proxy)"
   ]
  },
  {
   "cell_type": "markdown",
   "metadata": {},
   "source": [
    "## Friction"
   ]
  },
  {
   "cell_type": "code",
   "execution_count": null,
   "metadata": {},
   "outputs": [],
   "source": [
    "obj = create_object('box')\n",
    "# By changing the size, collision, visual and inertial \n",
    "# properties are already going to be updated\n",
    "obj.size = [0.8, 0.7, 0.9]\n",
    "obj.add_inertial(30)\n",
    "\n",
    "# Print the initial state of a box in the model option\n",
    "print(obj.to_sdf('model'))"
   ]
  },
  {
   "cell_type": "code",
   "execution_count": null,
   "metadata": {},
   "outputs": [],
   "source": [
    "# Set default friction parameters\n",
    "obj.collision.enable_property('friction')\n",
    "print(obj.to_sdf('model'))"
   ]
  },
  {
   "cell_type": "code",
   "execution_count": null,
   "metadata": {},
   "outputs": [],
   "source": [
    "obj.collision.set_ode_friction_params(\n",
    "    mu=0.9,\n",
    "    mu2=0.5,\n",
    "    slip1=0.3, \n",
    "    slip2=0.5,\n",
    "    fdir1=[0, 0, 0]\n",
    ")\n",
    "print(obj.to_sdf('model'))"
   ]
  },
  {
   "cell_type": "code",
   "execution_count": null,
   "metadata": {},
   "outputs": [],
   "source": [
    "obj.collision.set_bullet_friction_params(\n",
    "    friction=0.8, \n",
    "    friction2=0.9, \n",
    "    fdir1=[0, 0, 0], \n",
    "    rolling_friction=1\n",
    ")\n",
    "print(obj.to_sdf('model'))"
   ]
  },
  {
   "cell_type": "code",
   "execution_count": null,
   "metadata": {},
   "outputs": [],
   "source": [
    "# Set default bounce parameters\n",
    "obj.collision.enable_property('bounce')\n",
    "print(obj.to_sdf('model'))"
   ]
  },
  {
   "cell_type": "code",
   "execution_count": null,
   "metadata": {},
   "outputs": [],
   "source": [
    "mu = [0.1, 0.3, 0.5, 0.7, 1.0] \n",
    "for i in range(len(mu)):\n",
    "    obj.collision.set_ode_friction_params(\n",
    "        mu=mu[i],\n",
    "        mu2=mu[i])\n",
    "    \n",
    "    generator.spawn_model(\n",
    "        model=obj, \n",
    "        robot_namespace='box_mu_{}'.format(mu[i]),\n",
    "        pos=[0, i, 2])"
   ]
  },
  {
   "cell_type": "code",
   "execution_count": null,
   "metadata": {},
   "outputs": [],
   "source": [
    "from time import sleep\n",
    "sleep(2)\n",
    "\n",
    "for i in range(len(mu)):\n",
    "    gazebo_proxy.apply_body_wrench(\n",
    "        model_name='box_mu_{}'.format(mu[i]),\n",
    "        link_name='box',\n",
    "        force=[300, 0, 0],\n",
    "        torque=[0, 0, 0],\n",
    "        start_time=0,\n",
    "        duration=2\n",
    "        )"
   ]
  },
  {
   "cell_type": "code",
   "execution_count": null,
   "metadata": {},
   "outputs": [],
   "source": [
    "# End the simulation by killing the Gazebo task\n",
    "sleep(5)\n",
    "simulation.kill_all_tasks()"
   ]
  },
  {
   "cell_type": "markdown",
   "metadata": {},
   "source": [
    "The cuboids are created with different friction parameters and therefore will travel different distances when subjected to a horizontal force applied on their center of mass.\n",
    "\n",
    "![friction test](images/friction_test.png)"
   ]
  },
  {
   "cell_type": "code",
   "execution_count": null,
   "metadata": {},
   "outputs": [],
   "source": []
  }
 ],
 "metadata": {
  "kernelspec": {
   "display_name": "Python 3",
   "language": "python",
   "name": "python3"
  },
  "language_info": {
   "codemirror_mode": {
    "name": "ipython",
    "version": 3
   },
   "file_extension": ".py",
   "mimetype": "text/x-python",
   "name": "python",
   "nbconvert_exporter": "python",
   "pygments_lexer": "ipython3",
   "version": "3.6.9"
  }
 },
 "nbformat": 4,
 "nbformat_minor": 4
}
