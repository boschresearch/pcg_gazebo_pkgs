{
 "metadata": {
  "kernelspec": {
   "display_name": "Python 3",
   "language": "python",
   "name": "python3"
  },
  "language_info": {
   "codemirror_mode": {
    "name": "ipython",
    "version": 3
   },
   "file_extension": ".py",
   "mimetype": "text/x-python",
   "name": "python",
   "nbconvert_exporter": "python",
   "pygments_lexer": "ipython3",
   "version": "3.5.2"
  },
  "name": ""
 },
 "nbformat": 3,
 "nbformat_minor": 0,
 "worksheets": [
  {
   "cells": [
    {
     "cell_type": "code",
     "collapsed": false,
     "input": [
      "from pcg_gazebo.task_manager import ProcessManager\n",
      "# A process manager can be started by itself with an empty list of tasks\n",
      "process_manager = ProcessManager(ros_port=None, gazebo_port=None)\n",
      "# At this point neither Gazebo or roscore are running\n",
      "# When no arguments are given, the default hostname and port\n",
      "# arguments are going to be used.\n",
      "print('ROS network configuration:')\n",
      "print(process_manager.ros_config)"
     ],
     "language": "python",
     "metadata": {},
     "outputs": []
    },
    {
     "cell_type": "code",
     "collapsed": false,
     "input": [
      "# Log files can be checked for each individual instance and process \n",
      "from pcg_gazebo.utils import get_log_dir\n",
      "print(get_log_dir())"
     ],
     "language": "python",
     "metadata": {},
     "outputs": []
    },
    {
     "cell_type": "code",
     "collapsed": false,
     "input": [
      "# Create task to run \n",
      "#   roslaunch gazebo_ros empty_world.launch\n",
      "process_manager.create_gazebo_empty_world_task(required=True, process_timeout=10)"
     ],
     "language": "python",
     "metadata": {},
     "outputs": []
    },
    {
     "cell_type": "code",
     "collapsed": false,
     "input": [
      "print('Process stages:')\n",
      "for stage in process_manager._stages.keys():\n",
      "    print(process_manager._stages[stage])"
     ],
     "language": "python",
     "metadata": {},
     "outputs": []
    },
    {
     "cell_type": "code",
     "collapsed": false,
     "input": [
      "# Start Gazebo with process timeout\n",
      "process_manager.run_all_tasks()\n",
      "    "
     ],
     "language": "python",
     "metadata": {},
     "outputs": []
    },
    {
     "cell_type": "code",
     "collapsed": false,
     "input": [
      "process_manager.wait()"
     ],
     "language": "python",
     "metadata": {},
     "outputs": []
    },
    {
     "cell_type": "code",
     "collapsed": false,
     "input": [
      "process_manager.kill_all_tasks()"
     ],
     "language": "python",
     "metadata": {},
     "outputs": []
    },
    {
     "cell_type": "code",
     "collapsed": false,
     "input": [],
     "language": "python",
     "metadata": {},
     "outputs": []
    }
   ],
   "metadata": {}
  }
 ]
}
