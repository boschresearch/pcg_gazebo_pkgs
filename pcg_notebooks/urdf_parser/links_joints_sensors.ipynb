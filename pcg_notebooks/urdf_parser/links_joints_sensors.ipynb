{
 "cells": [
  {
   "cell_type": "markdown",
   "metadata": {},
   "source": [
    "# Links, joints and sensors\n",
    "\n",
    "## Links\n",
    "\n",
    "A physical link in the simulation contains inertia, collision and visual properties. A link must be a child of a robot and a robot can have multiple links."
   ]
  },
  {
   "cell_type": "code",
   "execution_count": null,
   "metadata": {},
   "outputs": [],
   "source": [
    "# Import the element creator\n",
    "from pcg_gazebo.parsers.urdf import create_urdf_element"
   ]
  },
  {
   "cell_type": "code",
   "execution_count": null,
   "metadata": {},
   "outputs": [],
   "source": [
    "# The link is empty by default\n",
    "link = create_urdf_element('link')\n",
    "print(link)"
   ]
  },
  {
   "cell_type": "code",
   "execution_count": null,
   "metadata": {},
   "outputs": [],
   "source": [
    "# By using reset(), it is possible to see the optional elements of a link\n",
    "link.reset(with_optional_elements=True)\n",
    "print(link)"
   ]
  },
  {
   "cell_type": "code",
   "execution_count": null,
   "metadata": {},
   "outputs": [],
   "source": [
    "# Let's create the elements dynamically at first\n",
    "link = create_urdf_element('link')\n",
    "\n",
    "# The link's name must be unique in a model\n",
    "link.name = 'base_link'\n",
    "print(link)"
   ]
  },
  {
   "cell_type": "code",
   "execution_count": null,
   "metadata": {},
   "outputs": [],
   "source": [
    "# Mass of the link in kg\n",
    "link.mass = 30\n",
    "# The center of mass are the cartesian coordinates in link.inertial.pose\n",
    "link.origin = create_urdf_element('origin')\n",
    "link.origin.xyz = [0, 10, 0]\n",
    "# The moments of inertia describe the elements of the 3x3 rotational inertial matrix\n",
    "link.inertia.ixx = 0.5\n",
    "link.inertia.iyy = 0.5\n",
    "link.inertia.izz = 0.5\n",
    "print(link)"
   ]
  },
  {
   "cell_type": "markdown",
   "metadata": {},
   "source": [
    "## Joints"
   ]
  },
  {
   "cell_type": "code",
   "execution_count": null,
   "metadata": {},
   "outputs": [],
   "source": [
    "# The joint is empty by default\n",
    "joint = create_urdf_element('joint')\n",
    "print(joint)"
   ]
  },
  {
   "cell_type": "code",
   "execution_count": null,
   "metadata": {},
   "outputs": [],
   "source": [
    "# By using reset(), it is possible to see the optional elements of a joint\n",
    "joint.reset(with_optional_elements=True)\n",
    "print(joint)"
   ]
  }
 ],
 "metadata": {
  "kernelspec": {
   "display_name": "Python 3",
   "language": "python",
   "name": "python3"
  },
  "language_info": {
   "codemirror_mode": {
    "name": "ipython",
    "version": 3
   },
   "file_extension": ".py",
   "mimetype": "text/x-python",
   "name": "python",
   "nbconvert_exporter": "python",
   "pygments_lexer": "ipython3"
  }
 },
 "nbformat": 4,
 "nbformat_minor": 2
}
