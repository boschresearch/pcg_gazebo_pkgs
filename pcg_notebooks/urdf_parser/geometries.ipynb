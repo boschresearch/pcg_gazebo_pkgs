{
 "cells": [
  {
   "cell_type": "markdown",
   "metadata": {},
   "source": [
    "# Geometries\n",
    "\n",
    "Geometry entities are child elements of `<visual>` or `<collision>` elements."
   ]
  },
  {
   "cell_type": "code",
   "execution_count": null,
   "metadata": {},
   "outputs": [],
   "source": [
    "# Import the element creator\n",
    "from pcg_gazebo.parsers.urdf import create_urdf_element"
   ]
  },
  {
   "cell_type": "markdown",
   "metadata": {},
   "source": [
    "## Basic entities\n",
    "Demonstration of the basic URDF elements that can be generated with and without the optional parameters.\n",
    "\n",
    "### Geometries\n",
    "\n",
    "#### Box"
   ]
  },
  {
   "cell_type": "code",
   "execution_count": null,
   "metadata": {},
   "outputs": [],
   "source": [
    "# Default box\n",
    "box = create_urdf_element('box')\n",
    "print('Default box')\n",
    "print(box)\n",
    "\n",
    "print('Default box - as dict')\n",
    "print(box.to_dict())\n",
    "\n",
    "print('Default box - as URDF')\n",
    "print(box.to_xml_as_str())\n",
    "\n",
    "# Changing the size\n",
    "box.size = [2, 3, 4]\n",
    "print('Custom box')\n",
    "print(box)\n",
    "\n",
    "# Exporting \n",
    "# box.export_xml('/tmp/box.urdf')"
   ]
  },
  {
   "cell_type": "markdown",
   "metadata": {},
   "source": [
    "#### Cylinder"
   ]
  },
  {
   "cell_type": "code",
   "execution_count": null,
   "metadata": {},
   "outputs": [],
   "source": [
    "# Default cylinder\n",
    "cylinder = create_urdf_element('cylinder')\n",
    "print('Default cylinder')\n",
    "print(cylinder)\n",
    "\n",
    "print('Default cylinder - as dict')\n",
    "print(cylinder.to_dict())\n",
    "\n",
    "print('Default cylinder - as URDF')\n",
    "print(cylinder.to_xml_as_str())\n",
    "\n",
    "# Changing the parameters\n",
    "cylinder.radius = 2\n",
    "cylinder.length = 3\n",
    "print('Custom cylinder')\n",
    "print(cylinder)\n",
    "\n",
    "# Exporting \n",
    "# cylinder.export_xml('/tmp/cylinder.urdf')"
   ]
  },
  {
   "cell_type": "markdown",
   "metadata": {},
   "source": [
    "#### Sphere"
   ]
  },
  {
   "cell_type": "code",
   "execution_count": null,
   "metadata": {},
   "outputs": [],
   "source": [
    "# Default sphere\n",
    "sphere = create_urdf_element('sphere')\n",
    "print('Default sphere')\n",
    "print(sphere)\n",
    "\n",
    "print('Default sphere - as dict')\n",
    "print(sphere.to_dict())\n",
    "\n",
    "print('Default sphere - as URDF')\n",
    "print(sphere.to_xml_as_str())\n",
    "\n",
    "# Changing the parameters\n",
    "sphere.radius = 2\n",
    "print('Custom sphere')\n",
    "print(sphere)\n",
    "\n",
    "# Exporting \n",
    "# sphere.export_xml('/tmp/sphere.urdf')"
   ]
  },
  {
   "cell_type": "markdown",
   "metadata": {},
   "source": [
    "#### Mesh"
   ]
  },
  {
   "cell_type": "code",
   "execution_count": null,
   "metadata": {},
   "outputs": [],
   "source": [
    "mesh = create_urdf_element('mesh')\n",
    "print('Default mesh - with default parameters')\n",
    "print(mesh)\n",
    "\n",
    "print('Default mesh - as dict')\n",
    "print(mesh.to_dict())\n",
    "\n",
    "print('Default mesh - as URDF')\n",
    "print(mesh.to_xml_as_str())\n",
    "\n",
    "# Changing the parameters\n",
    "mesh.filename = 'package://mesh.dae'\n",
    "print('Custom mesh')\n",
    "print(mesh)\n",
    "\n",
    "# Exporting \n",
    "# mesh.export_xml('/tmp/mesh.urdf')"
   ]
  },
  {
   "cell_type": "markdown",
   "metadata": {},
   "source": [
    "### Creating a geometry entity\n"
   ]
  },
  {
   "cell_type": "code",
   "execution_count": null,
   "metadata": {},
   "outputs": [],
   "source": [
    "# Initially, the geometry is created with a <box/> element\n",
    "geometry = create_urdf_element('geometry')\n",
    "print(geometry)"
   ]
  },
  {
   "cell_type": "code",
   "execution_count": null,
   "metadata": {},
   "outputs": [],
   "source": [
    "# Creating a geometry for each of the basic forms\n",
    "# The geometry entity has a separate mode for each possible geometry forms, since it cannot hold\n",
    "# multiple geometries\n",
    "# When a new geometry is set, the former one is deleted\n",
    "print('All the geometry entity modes:')\n",
    "print(geometry.get_modes())\n",
    "\n",
    "geometry.box = box\n",
    "print(geometry)\n",
    "\n",
    "geometry.cylinder = cylinder\n",
    "print(geometry)\n",
    "\n",
    "geometry.sphere = sphere\n",
    "print(geometry)\n",
    "\n",
    "geometry.mesh = mesh\n",
    "print(geometry)"
   ]
  },
  {
   "cell_type": "code",
   "execution_count": null,
   "metadata": {},
   "outputs": [],
   "source": []
  }
 ],
 "metadata": {
  "kernelspec": {
   "display_name": "Python 3",
   "language": "python",
   "name": "python3"
  },
  "language_info": {
   "codemirror_mode": {
    "name": "ipython",
    "version": 3
   },
   "file_extension": ".py",
   "mimetype": "text/x-python",
   "name": "python",
   "nbconvert_exporter": "python",
   "pygments_lexer": "ipython3"
  }
 },
 "nbformat": 4,
 "nbformat_minor": 2
}
